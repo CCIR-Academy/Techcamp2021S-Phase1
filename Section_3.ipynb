{
  "nbformat": 4,
  "nbformat_minor": 0,
  "metadata": {
    "colab": {
      "name": "Section_3.ipynb",
      "provenance": [],
      "authorship_tag": "ABX9TyMs+2OQXLElqFcqd7tEgKMw",
      "include_colab_link": true
    },
    "kernelspec": {
      "name": "python3",
      "display_name": "Python 3"
    },
    "language_info": {
      "name": "python"
    }
  },
  "cells": [
    {
      "cell_type": "markdown",
      "metadata": {
        "id": "view-in-github",
        "colab_type": "text"
      },
      "source": [
        "<a href=\"https://colab.research.google.com/github/CCIR-Academy/Techcamp2021S-Phase1/blob/main/Section_3.ipynb\" target=\"_parent\"><img src=\"https://colab.research.google.com/assets/colab-badge.svg\" alt=\"Open In Colab\"/></a>"
      ]
    },
    {
      "cell_type": "markdown",
      "metadata": {
        "id": "MVOd1A-4GRxN"
      },
      "source": [
        "# Section 3: The Python Standard Library & Further on IDEs and Utilities\n",
        "\n",
        "## What is \"library\"\n",
        "\n",
        "## The Python Standard Library (Intermediate)\n",
        "### Other Commanly Used Data Types\n",
        "#### Datetime\n",
        "#### JSON and Other Serialization\n",
        "### Logging (logging)\n",
        "### File System IO (os)\n",
        "### URL and Path Handling (urlib, os.path)\n",
        "### Database (SQLite)\n",
        "\n",
        "### Optional\n",
        "#### Functional Programming\n",
        "\n",
        "## Further on IDEs and Utilities\n",
        "### Linting\n",
        "### Markdown\n",
        "#### Virtual Environment with Conda\n",
        "#### Package management with pip and conda\n",
        "\n",
        "\n",
        "## Assignment"
      ]
    }
  ]
}