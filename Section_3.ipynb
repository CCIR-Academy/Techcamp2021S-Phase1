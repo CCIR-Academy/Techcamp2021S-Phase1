{
  "nbformat": 4,
  "nbformat_minor": 0,
  "metadata": {
    "colab": {
      "name": "Section_3.ipynb",
      "provenance": [],
      "collapsed_sections": [],
      "toc_visible": true,
      "authorship_tag": "ABX9TyM7GKabfs8DnAREoi2iLj6z",
      "include_colab_link": true
    },
    "kernelspec": {
      "name": "python3",
      "display_name": "Python 3"
    },
    "language_info": {
      "name": "python"
    }
  },
  "cells": [
    {
      "cell_type": "markdown",
      "metadata": {
        "id": "view-in-github",
        "colab_type": "text"
      },
      "source": [
        "<a href=\"https://colab.research.google.com/github/CCIR-Academy/Techcamp2021S-Phase1/blob/main/Section_3.ipynb\" target=\"_parent\"><img src=\"https://colab.research.google.com/assets/colab-badge.svg\" alt=\"Open In Colab\"/></a>"
      ]
    },
    {
      "cell_type": "markdown",
      "metadata": {
        "id": "MVOd1A-4GRxN"
      },
      "source": [
        "# Section 3: The Python Standard Library & Further on IDEs and Utilities\n",
        "\n",
        "\n",
        "\n",
        "\n",
        "## Assignment"
      ]
    },
    {
      "cell_type": "markdown",
      "metadata": {
        "id": "Kdrl-2UcEQ1c"
      },
      "source": [
        "## What is \"library\"\n",
        "- In common words, a library is a module of code with which you can directly incorporate into your own code. In this way, you don't have to know about how it actually works if you only need to have something done, or you may not need to design and implement some features by yourself any more. \n",
        "- Python comes with a standard set of libraries called \"The Python Standard Libraries\" from which you can directly import modules without installing them first. Aside from this, you can also install third-party modules with `pip`."
      ]
    },
    {
      "cell_type": "markdown",
      "metadata": {
        "id": "VqMUaiUFFvBf"
      },
      "source": [
        "## How to use a library\n",
        "- Importing: In Python, we use the keyword `import` to reference external code that is located in either The Python Standard Libraries, installed third-party libraries, or other files referenced with relative paths.\n",
        "    - In common conduct, we would put all the importing commands at the begining of the file.\n",
        "    - We can also import a small section of a library by using `from` in order to save time or space spent during the loading process.\n",
        "    - Moreover, we can change the variable name with `as` when we import modules as we prefer."
      ]
    },
    {
      "cell_type": "code",
      "metadata": {
        "id": "Hs_uCegQEQIJ"
      },
      "source": [
        "import os\n",
        "import \n",
        "print(os.getcwd()) # This line prints the current working directory."
      ],
      "execution_count": null,
      "outputs": []
    },
    {
      "cell_type": "code",
      "metadata": {
        "id": "I97e49RpJ6gS"
      },
      "source": [
        "from os import getcwd\n",
        "print(getcwd())"
      ],
      "execution_count": null,
      "outputs": []
    },
    {
      "cell_type": "code",
      "metadata": {
        "id": "tsGuEvy1J93u"
      },
      "source": [
        "from os import getcwd as getCurrentWorkingDirectory\n",
        "print(getCurrentWorkingDirectory())"
      ],
      "execution_count": null,
      "outputs": []
    },
    {
      "cell_type": "markdown",
      "metadata": {
        "id": "Efpi7qomG9zW"
      },
      "source": [
        "# The Python Standard Library (Intermediate)\n",
        "- We start from \"intermediate\" because all the built-in types we learn in the previous sections are also parts of The Python Standard Libraries.\n",
        "- In different distributions of Python (e.g., the \"standard\" python, Anaconda, MicroPython (for embeded development)), the list of defaultly available packages may vary, but you can manage packages with `pip`."
      ]
    },
    {
      "cell_type": "markdown",
      "metadata": {
        "id": "WLy9jDNJJJM9"
      },
      "source": [
        "## Other Commonly Used Built-in Data Types\n"
      ]
    },
    {
      "cell_type": "markdown",
      "metadata": {
        "id": "ogneWOYDJQh9"
      },
      "source": [
        "### datetime\n"
      ]
    },
    {
      "cell_type": "code",
      "metadata": {
        "id": "3OeOnmFAJW62"
      },
      "source": [
        "from datetime import datetime\n",
        "\n",
        "now = datetime.now() # obtain the datetime now\n",
        "print(now)\n",
        "print(type(now))\n",
        "\n",
        "aRandomDateTime =  datetime.strptime('2015-6-1 18:19:59', '%Y-%m-%d %H:%M:%S') # We can generate a datetime object by parsing a string\n",
        "print(aRandomDateTime)\n"
      ],
      "execution_count": null,
      "outputs": []
    },
    {
      "cell_type": "markdown",
      "metadata": {
        "id": "vjSdYa3fK2YR"
      },
      "source": [
        "### JSON and Other Serialization\n",
        "- Serialization: When we want to access or transfer data across environments or platforms, we use serialization to convert the data into text-like that can be easily handled as long as we know the way to parse and encode them.\n",
        "- JSON: JSON is a syntax for storing and exchanging data. JSON is text, written with JavaScript object notation.\n",
        "    - As it is commonly used in JavaScript which is the absolute major language used in web content, most programming languages supports JSON in different ways. In Python, you can find much similarities between JSON `object` and Python `dict` type.\n",
        "    - JSON is very helpful to store small amount of data for light workload (e.g., storing configurations, profiles) or network transmission. However, it is not easy and effective for more complicated operations."
      ]
    },
    {
      "cell_type": "code",
      "metadata": {
        "id": "Y3dvhf7jLimn"
      },
      "source": [
        "import json\n",
        "\n",
        "# Parsing JSON\n",
        "x =  '{ \"name\":\"John\", \"age\":30, \"city\":\"New York\"}' # Some JSON in string\n",
        "y = json.loads(x) # Parse x:\n",
        "print(y[\"age\"]) # The result is a Python dictionary:\n",
        "\n",
        "# Outputting JSON\n",
        "x = {\n",
        "  \"name\": \"John\",\n",
        "  \"age\": 30,\n",
        "  \"city\": \"New York\"\n",
        "} # A Python object (dict):\n",
        "y = json.dumps(x) # Convert into JSON:\n",
        "print(y) # The result is a JSON string:"
      ],
      "execution_count": null,
      "outputs": []
    },
    {
      "cell_type": "markdown",
      "metadata": {
        "id": "_Bv3CS7tMEr4"
      },
      "source": [
        "| Python | JSON   |\n",
        "|--------|--------|\n",
        "| dict   | Object |\n",
        "| list   | Array  |\n",
        "| tuple  | Array  |\n",
        "| str    | String |\n",
        "| int    | Number |\n",
        "| float  | Number |\n",
        "| True   | true   |\n",
        "| False  | false  |\n",
        "| None   | null   |"
      ]
    },
    {
      "cell_type": "markdown",
      "metadata": {
        "id": "BQASs-wRMcB5"
      },
      "source": [
        "- base64: Some data are stored natively in binaries that are not processible directly such as media files like images, but we can use `base64` to encode them into strings. \n",
        "    - This may work fully as intended if there is limit on the size of the content.\n"
      ]
    },
    {
      "cell_type": "code",
      "metadata": {
        "id": "E5laivMgOlF3"
      },
      "source": [
        "# This block of code is for reference only as we don't have an image.\n",
        "import base64\n",
        "\n",
        "with open('1.jpg', 'rb') as f:  # Load image as binaries\n",
        "    data = f.read()\n",
        "    encodestr = base64.b64encode(data) # Encode image into base64 bytes.\n",
        "    print(encodestring)  #"
      ],
      "execution_count": null,
      "outputs": []
    },
    {
      "cell_type": "markdown",
      "metadata": {
        "id": "IdI4NjSKOkvI"
      },
      "source": [
        "### Logging (logging)\n",
        "- Sometimes we would want to generate logs for the purpose of debugging or technical support, or simply generate instant feedback so that you can know if the program is running as expected. In some cases, we would want to store the logs so we can access them after the program crashes.\n",
        "- Read About Logging: https://realpython.com/python-logging/"
      ]
    },
    {
      "cell_type": "code",
      "metadata": {
        "id": "RIN_TTw_zZot"
      },
      "source": [
        "import logging\n",
        "\n",
        "logging.debug('This is a debug message')\n",
        "logging.info('This is an info message')\n",
        "logging.warning('This is a warning message')\n",
        "logging.error('This is an error message')\n",
        "logging.critical('This is a critical message')"
      ],
      "execution_count": null,
      "outputs": []
    },
    {
      "cell_type": "markdown",
      "metadata": {
        "id": "rQGKQCMGzgaX"
      },
      "source": [
        "### File System IO (os)\n",
        "- Sometimes we may need to handle files within the local file system, or access some environment variables; in some other cases, we might run into issues with differences in operation systems. As a multi-platform language, Python Standard Libraries implements a universal experience for such kind of operations."
      ]
    },
    {
      "cell_type": "code",
      "metadata": {
        "id": "dYl-Tqz20nnB"
      },
      "source": [
        "# This block of code does not run as we need to specify the file. You may try to run it locally though.\n",
        "with open('/path/to/file', 'r') as f:\n",
        "    print(f.read())"
      ],
      "execution_count": null,
      "outputs": []
    },
    {
      "cell_type": "code",
      "metadata": {
        "id": "z3Xruy8Q0692"
      },
      "source": [
        "import os\n",
        "print(os.name) # The result may vary on different environments.\n",
        "print(os.environ.get('PATH'))"
      ],
      "execution_count": null,
      "outputs": []
    },
    {
      "cell_type": "markdown",
      "metadata": {
        "id": "77FNSYBz1LFo"
      },
      "source": [
        "### Path Handling (os.path)\n",
        "- More than often, we will need to generate paths for files, but there will be issues if we move from one terminal/os to another as they may parse path-like strings in distinct ways; to address that, use os.path.join()"
      ]
    },
    {
      "cell_type": "code",
      "metadata": {
        "id": "5dZ2VFhz1hHR"
      },
      "source": [
        "print(os.path.abspath('.')) # Print the absolute path for the current directory\n",
        "print(os.path.join(os.path.abspath('.'), 'testdir')) # Generate a path object that is compatible across platforms \n",
        "os.mkdir(os.path.join(os.path.abspath('.'), 'testdir')) # Make a directory with the path specified\n",
        "os.rmdir(os.path.join(os.path.abspath('.'), 'testdir')) # Remove a directory with the path specified"
      ],
      "execution_count": null,
      "outputs": []
    },
    {
      "cell_type": "markdown",
      "metadata": {
        "id": "IUwOuTUs7YWa"
      },
      "source": [
        "### Database (SQLite)\n",
        "- When we want to store data in a complex structure, or when we expect a high workload of accessing and modifying data, list-like or object-like data types are not as effective in comparison to database structures which support SQL. In Python, SQLite has been included into the Python Standard Libraries as it is easy to establish and use, and available just as a file.\n",
        "- For more detailed guide, read the official documentation, or this article: https://www.digitalocean.com/community/tutorials/how-to-use-the-sqlite3-module-in-python-3"
      ]
    },
    {
      "cell_type": "code",
      "metadata": {
        "id": "L7ONGWKC8dR8"
      },
      "source": [
        "import sqlite3\n",
        "connection = sqlite3.connect('test.db') # We connect to the database in the form of a .db file; if it doesn't exist, it will create one.\n",
        "cursor = connnection.cursor() # We need to create a cursor to execute a query. \n",
        "cursor.execute('create table user (id varchar(20) primary key, name varchar(20))') # We create a table called 'user' with SQL commands.\n",
        "cursor.execute('insert into user (id, name) values (\\'1\\', \\'Michael\\')') # We insert an entry to the table we created\n",
        "\n",
        "print(cursor.rowcount) # We obtain the row count of the table\n",
        "cursor.close() # We close the cursor\n",
        "connection.commit() # We commit the changes we have made to the database.\n",
        "connection.close() # We close the connection."
      ],
      "execution_count": null,
      "outputs": []
    },
    {
      "cell_type": "markdown",
      "metadata": {
        "id": "zMg6ucLS9m4q"
      },
      "source": [
        "## Further on IDEs and Utilities\n"
      ]
    },
    {
      "cell_type": "markdown",
      "metadata": {
        "id": "m7CPQ6ZI9olZ"
      },
      "source": [
        "### Linting\n",
        "- Linting is a process in which your code would be automatically inspected for potential errors or violations against the rules either customized or from a styling standard. Nowadays, within IDEs, linting is done realtime as you code and save; nonetheless, you can always adjust the rules as you prefer. In team coding or open source coding, it is effective to establish agreement on a popular standard for styling.\n",
        "- Recommended Settings: Pylint with PEP8\n",
        "    - https://www.pylint.org/\n"
      ]
    },
    {
      "cell_type": "markdown",
      "metadata": {
        "id": "6MIn2SxB_MBt"
      },
      "source": [
        "### Markdown\n",
        "- Markdown is a lightweight and easy-to-use syntax for styling all forms of writing on the GitHub platform.\n",
        "- It is extremely poplar as it is easy to read, write, and render stylishly without embedding excessive code.\n",
        "- GitHub provides an excellent guide which also incorporates specialty features for Markdown documents on GitHub: https://guides.github.com/features/mastering-markdown/\n",
        "- Colab supports some more features for Markdown in addition to those originally supported by Jupyter Notebooks; you can even create a form inside Colab\n",
        "    - https://colab.research.google.com/notebooks/forms.ipynb#scrollTo=62YnDE7i9dqP"
      ]
    },
    {
      "cell_type": "markdown",
      "metadata": {
        "id": "aPcJld92_Nng"
      },
      "source": [
        "### Virtual Environment with Conda\n",
        "- Why Virtual Environment: Whereas Python is an intepretive programming language that often requires no compilation in advance, it is highly sensitive to the running environment from which it will import modules since it does not come with any pre-bundled library. This would become a mess if there is inconsistency in the version or even availability of certain modules.\n",
        "- Anaconda: As discussed in Section 1, Anaconda is one of the most popular Python distributions which integrates utilities for managing virtual environment."
      ]
    },
    {
      "cell_type": "code",
      "metadata": {
        "id": "7zT9sV0FX5aG"
      },
      "source": [
        "# Note: This block of code is used for local environments, and not executable on Colab\n",
        "\n",
        "conda init # This initializes Anaconda for local environment. A bracket with the name of the currently active environment should appear before the command line. In default case, it should show the default environment `base`\n",
        "conda create -n myVirtualEnvironment  python=3.8 # This line creates a new virtual environment called `myVirtualEnvironment` with the option -n, and specified 3.8 for Python version.\n",
        "conda activate myVirtual Environment # This line activates the newly created virtual environment whose name should appear in the bracket at the beginning of the command line.\n",
        "conda deactivate # This line returns to the `base` environment."
      ],
      "execution_count": null,
      "outputs": []
    },
    {
      "cell_type": "markdown",
      "metadata": {
        "id": "1MGnBgtwY7HO"
      },
      "source": [
        "- Understanding Virtual Environments: Just like other virtual environment utilities, creating virtual environments in Anaconda isolates the development environment with the local running environment; as such, with the usage of requirements.txt, you can easily reproduce the exact and minumum environments for your application."
      ]
    },
    {
      "cell_type": "markdown",
      "metadata": {
        "id": "4khs08QY_Oml"
      },
      "source": [
        "### Package management with pip and conda\n",
        "- `pip` is the default package/module management utility for Python; when used in virtual environments, `pip` would only modify pacakages in the currently active environment. With `pip list`, you can see all the installed packages in the currently active environment.\n",
        "- To install a package, you simply key in `pip install <packageName>`, which should often be also specified in the documentation of the package to be installed.\n",
        "- To install a collection of packages listed in requirements.txt (which is often the case for shared/open source projects), use `pip install -r requirements.txt`.\n",
        "- To output a list of currently installed packages for sharing, use `pip freeze >requirements.txt`"
      ]
    }
  ]
}