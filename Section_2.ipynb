{
  "nbformat": 4,
  "nbformat_minor": 0,
  "metadata": {
    "colab": {
      "name": "Section 2.ipynb",
      "provenance": [],
      "collapsed_sections": [],
      "authorship_tag": "ABX9TyOyM5vX1oeM5lG0G87E8bUy",
      "include_colab_link": true
    },
    "kernelspec": {
      "name": "python3",
      "display_name": "Python 3"
    },
    "language_info": {
      "name": "python"
    }
  },
  "cells": [
    {
      "cell_type": "markdown",
      "metadata": {
        "id": "view-in-github",
        "colab_type": "text"
      },
      "source": [
        "<a href=\"https://colab.research.google.com/github/CCIR-Academy/Techcamp2021S-Phase1/blob/main/Section_2.ipynb\" target=\"_parent\"><img src=\"https://colab.research.google.com/assets/colab-badge.svg\" alt=\"Open In Colab\"/></a>"
      ]
    },
    {
      "cell_type": "markdown",
      "metadata": {
        "id": "FnbROsVzmv-w"
      },
      "source": [
        "# Section 2: Common Basics of Programming and Python Specialties\n",
        "## Tribute\n",
        "This Colab Notebook is based on https://chai.ml/docs/huggingface, provided by Chai.ml\n",
        "\n",
        "\n",
        "\n",
        "## Sample Code"
      ]
    },
    {
      "cell_type": "code",
      "metadata": {
        "id": "TaTpUPuqm8jF"
      },
      "source": [
        "# TrumpBot.py\n",
        "import requests\n",
        "import json\n",
        "import time\n",
        "from chai_py import ChaiBot, Update\n",
        "\n",
        "\n",
        "class TrumpBot(ChaiBot):\n",
        "    ENDPOINT = \"https://api-inference.huggingface.co/models/huggingtweets/realdonaldtrump\"\n",
        "\n",
        "    def setup(self):\n",
        "        self.logger.info(\"Hello, world!\")\n",
        "\n",
        "    async def on_message(self, update: Update) -> str:\n",
        "        if update.latest_message.text == self.FIRST_MESSAGE_STRING:\n",
        "            return f\"Hi, I am the greatest politician in the history of New York! Together, we are going to MAKE AMERICA GREAT AGAIN! Together, we are going to MAKE AMERICA GREAT AGAIN! Together, we are going to MAKE AMERICA GREAT AGAIN!\"\n",
        "\n",
        "        response = requests.post(\n",
        "            self.ENDPOINT,\n",
        "            data=json.dumps({\n",
        "                \"inputs\": update.latest_message.text,\n",
        "                \"options\": {\"use_cache\": False}\n",
        "            })\n",
        "        )\n",
        "        if response.status_code == 503:\n",
        "            estimated_time = response.json()['estimated_time']\n",
        "            time.sleep(estimated_time)\n",
        "            self.logger.info(f\"Sleeping for model to load: {estimated_time}\")\n",
        "\n",
        "            response = requests.post(\n",
        "                self.ENDPOINT,\n",
        "                data=json.dumps({\n",
        "                    \"inputs\": update.latest_message.text,\n",
        "                    \"options\": {\"use_cache\": False, \"wait_for_model\": True}\n",
        "                })\n",
        "            )\n",
        "        return response.json()[0]['generated_text']\n"
      ],
      "execution_count": null,
      "outputs": []
    },
    {
      "cell_type": "markdown",
      "metadata": {
        "id": "nhRflsUUnlro"
      },
      "source": [
        "## Table of Contents\n",
        "- Programming Common Basics:\n",
        "  - Data Type:\n",
        "    - Dynamic Data Type in Python\n",
        "      - Basic Types in Python:\n",
        "        - Objects:\n",
        "          - Properties\n",
        "          - Methods\n",
        "      - Numbers\n",
        "      - Strings\n",
        "      - Booleans\n",
        "      - None/Null\n",
        "      - Lists/Sets/Tuples\n",
        "      - Dictionaries\n",
        "  - Basic Operators\n",
        "  - Conditions\n",
        "  - Loops\n",
        "  - Functions\n",
        "  - Objects and Classes\n",
        "  - Exception Handling\n",
        "- Python Specialties\n",
        "  - Slices\n",
        "  - Iterations\n",
        "  - List Comprehension\n",
        "- Assignments\n",
        "\n",
        "\n"
      ]
    }
  ]
}