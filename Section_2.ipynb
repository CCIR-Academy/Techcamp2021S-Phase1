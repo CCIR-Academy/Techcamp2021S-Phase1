{
  "nbformat": 4,
  "nbformat_minor": 0,
  "metadata": {
    "colab": {
      "name": "Section 2.ipynb",
      "provenance": [],
      "collapsed_sections": [],
      "toc_visible": true,
      "authorship_tag": "ABX9TyPZIeP5bp+IA0fhgPR8tnaL",
      "include_colab_link": true
    },
    "kernelspec": {
      "name": "python3",
      "display_name": "Python 3"
    },
    "language_info": {
      "name": "python"
    }
  },
  "cells": [
    {
      "cell_type": "markdown",
      "metadata": {
        "id": "view-in-github",
        "colab_type": "text"
      },
      "source": [
        "<a href=\"https://colab.research.google.com/github/CCIR-Academy/Techcamp2021S-Phase1/blob/main/Section_2.ipynb\" target=\"_parent\"><img src=\"https://colab.research.google.com/assets/colab-badge.svg\" alt=\"Open In Colab\"/></a>"
      ]
    },
    {
      "cell_type": "markdown",
      "metadata": {
        "id": "FnbROsVzmv-w"
      },
      "source": [
        "# Section 2: Common Basics of Programming and Python Specialties"
      ]
    },
    {
      "cell_type": "markdown",
      "metadata": {
        "id": "nhRflsUUnlro"
      },
      "source": [
        "## Table of Contents\n",
        "- Programming Common Basics:\n",
        "  - Data Type:\n",
        "    - Dynamic Data Type in Python\n",
        "    - Object Oritented Programming in Python:\n",
        "      - Properties\n",
        "      - Methods\n",
        "    - Basic Types in Python:\n",
        "      - Numbers\n",
        "      - Strings\n",
        "      - Booleans\n",
        "      - None/Null\n",
        "      - Lists/Sets/Tuples\n",
        "      - Dictionaries\n",
        "  - Basic Operators\n",
        "  - Conditions\n",
        "  - Loops\n",
        "  - Functions\n",
        "  - Objects and Classes\n",
        "  - Exception Handling\n",
        "- Python Specialties\n",
        "  - Slices\n",
        "  - Iterations\n",
        "  - List Comprehension\n",
        "- Assignments\n",
        "\n",
        "\n"
      ]
    },
    {
      "cell_type": "markdown",
      "metadata": {
        "id": "Jdv--7biGOs9"
      },
      "source": [
        "# Programming Common Basics:\n",
        "```\n",
        "Note: Self Paced Learning Resources covering the follow contents can be found here\n",
        "  - Kaggle: \n",
        "    - https://www.kaggle.com/colinmorris/hello-python\n",
        "    - https://www.kaggle.com/colinmorris/functions-and-getting-help\n",
        "    - https://www.kaggle.com/colinmorris/booleans-and-conditionals\n",
        "    - https://www.kaggle.com/colinmorris/lists\n",
        "    - https://www.kaggle.com/colinmorris/loops-and-list-comprehensions\n",
        "    - https://www.kaggle.com/colinmorris/strings-and-dictionaries\n",
        "  - LearnPython.Org: \n",
        "    - https://www.learnpython.org/en/Variables_and_Types\n",
        "    - https://www.learnpython.org/en/Lists\n",
        "    - https://www.learnpython.org/en/Basic_Operators\n",
        "    - https://www.learnpython.org/en/String_Formatting\n",
        "    - https://www.learnpython.org/en/Basic_String_Operations\n",
        "    - https://www.learnpython.org/en/Conditions\n",
        "    - https://www.learnpython.org/en/Loops\n",
        "    - https://www.learnpython.org/en/Functions\n",
        "    - https://www.learnpython.org/en/Classes_and_Objects\n",
        "    - https://www.learnpython.org/en/Dictionaries\n",
        "```"
      ]
    },
    {
      "cell_type": "markdown",
      "metadata": {
        "id": "v2cdDrA5NhFZ"
      },
      "source": [
        "## Data Type\n",
        "You can get the data type of any object by using the type() function:\n"
      ]
    },
    {
      "cell_type": "markdown",
      "metadata": {
        "id": "FuRSYi6ImMZa"
      },
      "source": [
        "### Dynamic Data Types in Python\n",
        "  - You do not need to declare variables before using them, or declare their type. \n",
        "  - You can change the data type or even structure dynamically (not recommended)"
      ]
    },
    {
      "cell_type": "code",
      "metadata": {
        "id": "PQizWMiQNpT7"
      },
      "source": [
        "#←Click this button to try\n",
        "myint = 0\n",
        "print(myint+1)\n",
        "myint = str(myint)\n",
        "print(myint+\"1\")\n"
      ],
      "execution_count": null,
      "outputs": []
    },
    {
      "cell_type": "markdown",
      "metadata": {
        "id": "wv5c0UV-Nmcs"
      },
      "source": [
        "### Object Oriented Programming in Python\n",
        "- Almost everything in Python is an object with properties and methods. \n",
        "- Attributes/Properties: Data or connections attached to an object that can be accessed or changed.\n",
        "- Methods: Invokable functions attached to an object.\n",
        "    - To some extend, methods can be understood as attributes too.\n"
      ]
    },
    {
      "cell_type": "code",
      "metadata": {
        "id": "bHsnuH1djk7a"
      },
      "source": [
        "### We will learn more about Class later\n",
        "class myIdentityClass(object): # MyIdentityClass is defined on the basis of \"the object\"\n",
        "    def __init__(self, firstName, lastName): # This is the initilization method which would be automatically called in creating an instance.\n",
        "        self.firstName = firstName  # This defines an attribute of the created object\n",
        "        self.lastName = lastName \n",
        "    def printMyName(self):  # This defines a method of the created object which requires no parameters.\n",
        "        print(\"My name is %s %s.\" % (self.firstName, self.lastName))\n",
        "    def saySomething(self, sentence): # This defines a method of the created object which requires a parameter named \"sentence\".\n",
        "        print(\"%s %s said: %s\" % (self.firstName, self.lastName, sentence))\n",
        "###\n",
        "\n",
        "\n",
        "mySelf = myIdentityClass(\"John\", \"Appleseed\")\n",
        "print(mySelf.firstName)\n",
        "print(mySelf.lastName)\n",
        "mySelf.printMyName() # This calls the method without a parameter\n",
        "mySelf.saySomething(\"Hello World!\") # This calls the method with a parameter\n",
        "mySelf.myPhoneNumber = \"123456789\" # This dynamically attach an additional attirbute to the created object\n",
        "print(mySelf.myPhoneNumber) \n",
        "print(type(mySelf))\n",
        "print(type(mySelf.firstName))\n",
        "print(type(mySelf.printMyName))\n",
        "    "
      ],
      "execution_count": null,
      "outputs": []
    },
    {
      "cell_type": "markdown",
      "metadata": {
        "id": "6_ct8Gxhl_p_"
      },
      "source": [
        "### Basic Types in Python\n",
        "- Numbers\n",
        "    - Integer Numbers: `myInt = 7`\n",
        "    - Floating Point Numbers `myFloat = 7.07`\n",
        "- Strings: `myString = \"myString\"`\n",
        "- Booleans: \n",
        "    - `myTrueBoolean = True` \n",
        "    - `myFalseBoolean = False` \n",
        "- None/Null: \n",
        "    - The None keyword is used to define a null value, or no value at all.\n",
        "    - None is not the same as 0, False, or an empty string. None is a data type of its own (NoneType) and only None can be None.\n",
        "- Lists/Sets/Tuples/Dictionaries: The four built-in data types used to store collections of data in Python with different qualities and usage.\n",
        "    - List: \n",
        "        - Created with square brackets: `myList = [1, 2, 3, 3]`\n",
        "        - Ordered, changeable, and allow duplicate values.\n",
        "        - Indexed, the first item has index [0], the second item has index [1] etc.\n",
        "    - Tuple\n",
        "        - Created with round brackets: `myTuple = (1, 2, 3, 3)`\n",
        "        - Ordered and unchangeable, and allow duplicate values.\n",
        "    - Set:\n",
        "        - Created with curly brackets: `mySet = {1, 2, 3}`\n",
        "        - Set items are unordered, unchangeable, and do not allow duplicate values.\n",
        "    - Dictionaries:\n",
        "        - Created with curly brackets and key:value pair: `myDictionary = {\"a\": 1, \"b\": 2, \"c\": 3}`\n",
        "        - Ordered (as of Python 3.7), changeable, and does not allow duplicates of keys.\n",
        "        - Dictionary items are presented in key:value pairs, and can be referred to by using the key name."
      ]
    },
    {
      "cell_type": "code",
      "metadata": {
        "id": "vBr3FymvtlLk"
      },
      "source": [
        "myList = [1, 2, 3, 3]\n",
        "myTuple = (1, 2, 3, 3)\n",
        "mySet = {1, 2, 3}\n",
        "myDictionary = {\"a\": 1, \"b\": 2, \"c\": 3}\n",
        "\n",
        "print(myList[0])\n",
        "print(myTuple[1])\n",
        "print(1 in mySet)\n",
        "print(myDictionary[\"c\"])"
      ],
      "execution_count": null,
      "outputs": []
    },
    {
      "cell_type": "markdown",
      "metadata": {
        "id": "bjHX8bjdm_FC"
      },
      "source": [
        "## Basic Operators\n",
        "- Arithmetic Operators\n",
        "- Assignment Operators\n",
        "- Comparison Operators\n",
        "- Logical Operators\n",
        "- Membership Operators"
      ]
    },
    {
      "cell_type": "markdown",
      "metadata": {
        "id": "bGAgmhAhnF6b"
      },
      "source": [
        "## Conditions\n",
        "- `if`: An \"if statement\" is written by using the `if` keyword.\n",
        "- `else`: Code after `else` keyword would be executed if the condition is not met.\n",
        "- Indentation:Python relies on indentation (whitespace at the beginning of a line) to define scope in the code. Other programming languages often use curly-brackets for this purpose."
      ]
    },
    {
      "cell_type": "code",
      "metadata": {
        "id": "YNKlS6s21oBt"
      },
      "source": [
        "a = 1\n",
        "b = 1\n",
        "c = 2\n",
        "d = 3\n",
        "\n",
        "if a == b:\n",
        "    if a < c:\n",
        "        print(\"a equals b but is smaller than c\")\n",
        "\n",
        "if a == c:\n",
        "    print(\"a equals c, but there should be something wrong if this line is printed\") # This line won't be execute\n",
        "else:\n",
        "    print(\"a does not equal c\")    "
      ],
      "execution_count": null,
      "outputs": []
    },
    {
      "cell_type": "markdown",
      "metadata": {
        "id": "tY4CsT_7nHmG"
      },
      "source": [
        "## Loops\n",
        "\n",
        "- `while` Loop: With the while loop we can execute a set of statements as long as a condition is true.\n"
      ]
    },
    {
      "cell_type": "code",
      "metadata": {
        "id": "ceP964EYSQ14"
      },
      "source": [
        "i = 1\n",
        "while i < 6:\n",
        "  print(i)\n",
        "  i += 1"
      ],
      "execution_count": null,
      "outputs": []
    },
    {
      "cell_type": "markdown",
      "metadata": {
        "id": "W9zlNGt8STyc"
      },
      "source": [
        "- `for` Loops: A for loop is used for iterating over a sequence (that is either a list, a tuple, a dictionary, a set, or a string)."
      ]
    },
    {
      "cell_type": "code",
      "metadata": {
        "id": "GzbAFhYNSfRL"
      },
      "source": [
        "fruits = [\"apple\", \"banana\", \"cherry\"]\n",
        "for x in fruits:\n",
        "  print(x)"
      ],
      "execution_count": null,
      "outputs": []
    },
    {
      "cell_type": "code",
      "metadata": {
        "id": "gUeKNsVJSg8_"
      },
      "source": [
        "for x in \"banana\":\n",
        "  print(x)"
      ],
      "execution_count": null,
      "outputs": []
    },
    {
      "cell_type": "markdown",
      "metadata": {
        "id": "qmLCE7QnSn3V"
      },
      "source": [
        "- `break` and `continue`: For finer control of loops, we can use `break` and `continue`\n",
        "    - With the `break` statement we can stop the loop before it has looped through all the items\n",
        "    - With the `continue` statement we can stop the current iteration of the loop, and continue with the next\n"
      ]
    },
    {
      "cell_type": "code",
      "metadata": {
        "id": "NMphN6z9Szbc"
      },
      "source": [
        "fruits = [\"apple\", \"banana\", \"cherry\"]\n",
        "for x in fruits:\n",
        "  print(x)\n",
        "  if x == \"banana\":\n",
        "    break"
      ],
      "execution_count": null,
      "outputs": []
    },
    {
      "cell_type": "code",
      "metadata": {
        "id": "e3WQ7ejSTBph"
      },
      "source": [
        "fruits = [\"apple\", \"banana\", \"cherry\"]\n",
        "for x in fruits:\n",
        "  if x == \"banana\":\n",
        "    continue\n",
        "  print(x)"
      ],
      "execution_count": null,
      "outputs": []
    },
    {
      "cell_type": "markdown",
      "metadata": {
        "id": "EShnnU9DS2DR"
      },
      "source": [
        "- Loop with range(): To loop through a set of code a specified number of times, we can use the range() function. The range() function returns a sequence of numbers, starting from 0 by default, and increments by 1 (by default), and ends at a specified number.\n",
        "    - Often used together with len() to iterate by index.\n",
        "        - len(): return the length of an object (e.g., list)"
      ]
    },
    {
      "cell_type": "code",
      "metadata": {
        "id": "HW7iiOFRT8eg"
      },
      "source": [
        "for x in range(6):\n",
        "  print(x)"
      ],
      "execution_count": null,
      "outputs": []
    },
    {
      "cell_type": "code",
      "metadata": {
        "id": "kFL7NeD3TlcA"
      },
      "source": [
        "fruits = [\"apple\", \"banana\", \"cherry\"]\n",
        "for i in range(len(fruits)):\n",
        "  print(fruits[i])"
      ],
      "execution_count": null,
      "outputs": []
    },
    {
      "cell_type": "markdown",
      "metadata": {
        "id": "MG55l0P7nJvy"
      },
      "source": [
        "## Functions\n",
        "- Function: A function is a block of code which only runs when it is called.\n",
        "- Parameter: You can pass data, known as parameters, into a function.\n",
        "- Return: A function can return data as a result.\n",
        "- `def`: In Python a function is defined using the def keyword\n",
        "- Call/Invoke a function: To call a function, use the function name followed by parenthesis\n",
        "- Arguments: Information can be passed into functions as arguments.\n"
      ]
    },
    {
      "cell_type": "code",
      "metadata": {
        "id": "k1JvsT5ZUvQM"
      },
      "source": [
        "def my_function(fname):\n",
        "  print(fname + \" Refsnes\")\n",
        "\n",
        "my_function(\"Emil\")\n",
        "my_function(\"Tobias\")\n",
        "my_function(\"Linus\")"
      ],
      "execution_count": null,
      "outputs": []
    },
    {
      "cell_type": "markdown",
      "metadata": {
        "id": "EwsVInq7U0xA"
      },
      "source": [
        "`Note: To clarify the relationship between \"parameters\" and \"arguments\". In this block of code, the function is defined by the block of code and the parameter \"fname\". When we call this function, we pass a parameter to define \"fname\" for only this call, and output what the function returns with only this call`. "
      ]
    },
    {
      "cell_type": "markdown",
      "metadata": {
        "id": "8kRmSnh0nMzp"
      },
      "source": [
        "## Classes\n",
        "- Class: A Class is like an object constructor, or a \"blueprint\" for creating objects, which constructs objects with a set of pre-defined properties and methods.\n",
        "Instance: \n",
        "- Instance: If an object is constructed by a class, we call this object an instance of this class.  \n",
        "- `__init__()`All classes have a function called `__init__()`, which is always executed when the class is being initiated.\n",
        "- `self`: The self parameter is a reference to the current instance of the class, and is used to access variables that belongs to the class. It does not have to be named `self` as you can call it whatever you like, but it has to be the first parameter of any method in the class:"
      ]
    },
    {
      "cell_type": "code",
      "metadata": {
        "id": "xcXO_xDzWvgm"
      },
      "source": [
        "class myIdentityClass(object): # myIdentityClass is defined on the basis of \"the object\"\n",
        "    def __init__(self, firstName, lastName): # This is the initilization method which would be automatically called in creating an instance.\n",
        "        self.firstName = firstName  # This defines an attribute of the created object\n",
        "        self.lastName = lastName \n",
        "    def printMyName(self):  # This defines a method of the created object which requires no parameters.\n",
        "        print(\"My name is %s %s.\" % (self.firstName, self.lastName))\n",
        "    def saySomething(self, sentence): # This defines a method of the created object which requires a parameter named \"sentence\".\n",
        "        print(\"%s %s said: %s\" % (self.firstName, self.lastName, sentence))\n",
        "\n",
        "mySelf = myIdentityClass(\"John\", \"Appleseed\")\n",
        "print(mySelf.firstName)\n",
        "print(mySelf.lastName)\n",
        "mySelf.printMyName() # This calls the method without a parameter\n",
        "mySelf.saySomething(\"Hello World!\") # This calls the method with a parameter\n",
        "mySelf.myPhoneNumber = \"123456789\" # This dynamically attach an additional attirbute to the created object\n",
        "print(mySelf.myPhoneNumber) \n",
        "print(type(mySelf))\n",
        "print(type(mySelf.firstName))\n",
        "print(type(mySelf.printMyName))"
      ],
      "execution_count": null,
      "outputs": []
    },
    {
      "cell_type": "markdown",
      "metadata": {
        "id": "WuGCB5lfnOsV"
      },
      "source": [
        "## Exception Handling\n",
        "- Like many other languages, Python uses `try` and `except` as the main paradigm of exception handling.\n",
        "    - The `try` block lets you test a block of code for errors.\n",
        "    - The `except` block lets you handle the error.\n",
        "    - The `finally` block lets you execute code, regardless of the result of the try- and except blocks."
      ]
    },
    {
      "cell_type": "code",
      "metadata": {
        "id": "GqVKb477a9KM"
      },
      "source": [
        "# The try block will generate an exception, because x is not defined:\n",
        "try:\n",
        "  print(x)\n",
        "except:\n",
        "  print(\"An exception occurred\")"
      ],
      "execution_count": null,
      "outputs": []
    },
    {
      "cell_type": "code",
      "metadata": {
        "id": "RUeJNPGGbJrM"
      },
      "source": [
        "# You can also try to capture specific errors and execute different handling codes respectively.\n",
        "# For example, in the follow code, it will print one message if the try block raises a NameError and another for other errors:\n",
        "\n",
        "try:\n",
        "  print(x)\n",
        "except NameError:\n",
        "  print(\"Variable x is not defined\")\n",
        "except:\n",
        "  print(\"Something else went wrong\")"
      ],
      "execution_count": null,
      "outputs": []
    },
    {
      "cell_type": "markdown",
      "metadata": {
        "id": "v00tNziQbc0w"
      },
      "source": [
        "`Note: Exception handling is a conventional part of coding as long as all exceptions are caught and handled properply when raised; otherwise, it's called a bug.`"
      ]
    },
    {
      "cell_type": "markdown",
      "metadata": {
        "id": "mVAOEacSMoNW"
      },
      "source": [
        "# Python Specialties\n"
      ]
    },
    {
      "cell_type": "markdown",
      "metadata": {
        "id": "R4cTL4DrgTIs"
      },
      "source": [
        "## Slices\n",
        "- Read Through: https://railsware.com/blog/python-for-machine-learning-indexing-and-slicing-for-lists-tuples-strings-and-other-sequential-types/\n",
        "- Slice Syntax: `start:stop:step`. `start` refers to the index of the element which is used as a start of our slice. `stop` refers to the index of the element we should stop just before to finish our slice. `step` allows you to take each nth-element within a start:stop range."
      ]
    },
    {
      "cell_type": "code",
      "metadata": {
        "id": "OHHOEWYCgxdl"
      },
      "source": [
        "nums = [10, 20, 30, 40, 50, 60, 70, 80, 90]\n",
        "some_nums = nums[2:7]\n",
        "print(some_nums)"
      ],
      "execution_count": null,
      "outputs": []
    },
    {
      "cell_type": "code",
      "metadata": {
        "id": "3W5y7IDNg30Q"
      },
      "source": [
        "nums = [10, 20, 30, 40, 50, 60, 70, 80, 90]\n",
        "some_nums = nums[:5]\n",
        "print(some_nums)"
      ],
      "execution_count": null,
      "outputs": []
    },
    {
      "cell_type": "code",
      "metadata": {
        "id": "0Z1oLoEohEwo"
      },
      "source": [
        "nums = [10, 20, 30, 40, 50, 60, 70, 80, 90]\n",
        "some_nums = nums[-3:]\n",
        "print(some_nums)"
      ],
      "execution_count": null,
      "outputs": []
    },
    {
      "cell_type": "code",
      "metadata": {
        "id": "KC0K0fj6hSP3"
      },
      "source": [
        "nums = [10, 20, 30, 40, 50, 60, 70, 80, 90]\n",
        "some_nums = nums[:-2]\n",
        "print(some_nums)"
      ],
      "execution_count": null,
      "outputs": []
    },
    {
      "cell_type": "code",
      "metadata": {
        "id": "vWSp4TrnhZsO"
      },
      "source": [
        "nums = [10, 20, 30, 40, 50, 60, 70, 80, 90]\n",
        "some_nums = nums[::2]\n",
        "print(some_nums)"
      ],
      "execution_count": null,
      "outputs": []
    },
    {
      "cell_type": "code",
      "metadata": {
        "id": "PtXALgyGhi_p"
      },
      "source": [
        "nums = [10, 20, 30, 40, 50, 60, 70, 80, 90]\n",
        "some_nums = nums[::-1]\n",
        "print(some_nums)"
      ],
      "execution_count": null,
      "outputs": []
    },
    {
      "cell_type": "markdown",
      "metadata": {
        "id": "zKD75Xf0CQ0L"
      },
      "source": [
        "## List Comprehension\n",
        "- In Python, we can generate a complicated list by list comprehension easily."
      ]
    },
    {
      "cell_type": "code",
      "metadata": {
        "id": "c96pYURECPZI"
      },
      "source": [
        "# Without list comprehension, if we want to create a list like [1, 4, 9, 16, ..., i^2], we might do it with loops:\n",
        "myListOfSquares = []\n",
        "for x in range(1, 11):\n",
        "    myListOfSquares.append(x * x)\n",
        "print(myListOfSquares)"
      ],
      "execution_count": null,
      "outputs": []
    },
    {
      "cell_type": "code",
      "metadata": {
        "id": "xXkV-qnxDHTi"
      },
      "source": [
        "# With list comprehension, we can define such a list directly and abstractly:\n",
        "myListOfSquares = [x * x for x in range(1, 11)]\n",
        "print(myListOfSquares)\n",
        "\n",
        "# And even with conditions:\n",
        "myAnotherListOfSquares = [x * x for x in range(1, 11) if x % 2 == 0]\n",
        "print(myAnotherListOfSquares)\n",
        "\n",
        "# or two layers of loops:\n",
        "myOverlayedList= [m + n for m in 'ABC' for n in 'XYZ']\n",
        "print(myOverlayedList)"
      ],
      "execution_count": null,
      "outputs": []
    },
    {
      "cell_type": "markdown",
      "metadata": {
        "id": "QfdsqllTruBi"
      },
      "source": [
        "# End-of-Class Exercise\n",
        "Try to read and understand the following code presented by Chai.ai as much as possible. \n",
        "`Note: Some features are not discussed yet.`"
      ]
    },
    {
      "cell_type": "code",
      "metadata": {
        "id": "3vjCrs_n4B48",
        "colab": {
          "base_uri": "https://localhost:8080/"
        },
        "outputId": "9f7adac9-1909-4f63-8ad8-9615000b7884"
      },
      "source": [
        "%pip install chaipy nest_asyncio\n",
        "\n",
        "\n",
        "from chai_py import ChaiBot, Update, TRoom\n",
        "import datetime, asyncio\n",
        "import nest_asyncio\n",
        "nest_asyncio.apply()\n",
        "\n",
        "# Important Note: Don't worry about all the asyncio thing as they are just tweaks to allow such bot to be run on Colab. You won't need them if you run your bot locally.\n",
        "\n",
        "from chai_py import ChaiBot, Update, TRoom\n",
        "\n",
        "class EchoBot(ChaiBot):\n",
        "    def setup(self):\n",
        "        self.logger.info(\"Hello, world!\")\n",
        "\n",
        "    async def on_message(self, update: Update) -> str:\n",
        "        return f\"Echo: {update.latest_message.text}\"\n",
        "\n",
        "t_room = TRoom([EchoBot()])\n",
        "t_room.chat()"
      ],
      "execution_count": 1,
      "outputs": [
        {
          "output_type": "stream",
          "text": [
            "Collecting chaipy\n",
            "  Downloading https://files.pythonhosted.org/packages/48/7f/9c5e693c1f8a1d3500fc5d2c4aca8e182b3e256080e71965541872fb9d15/chaipy-0.3.3-py3-none-any.whl\n",
            "Requirement already satisfied: nest_asyncio in /usr/local/lib/python3.7/dist-packages (1.5.1)\n",
            "Collecting segno>=1.3.3\n",
            "\u001b[?25l  Downloading https://files.pythonhosted.org/packages/df/fa/833e875de6702e1392a47b1460b03793ff1c00ca3de4d4cc37d2a4050b89/segno-1.3.3-py2.py3-none-any.whl (81kB)\n",
            "\u001b[K     |████████████████████████████████| 81kB 4.0MB/s \n",
            "\u001b[?25hCollecting halo>=0.0.31\n",
            "  Downloading https://files.pythonhosted.org/packages/ee/48/d53580d30b1fabf25d0d1fcc3f5b26d08d2ac75a1890ff6d262f9f027436/halo-0.0.31.tar.gz\n",
            "Requirement already satisfied: requests>=2.23.0 in /usr/local/lib/python3.7/dist-packages (from chaipy) (2.23.0)\n",
            "Collecting colorama>=0.4.4\n",
            "  Downloading https://files.pythonhosted.org/packages/44/98/5b86278fbbf250d239ae0ecb724f8572af1c91f4a11edf4d36a206189440/colorama-0.4.4-py2.py3-none-any.whl\n",
            "Requirement already satisfied: typing-extensions>=3.7.4.3 in /usr/local/lib/python3.7/dist-packages (from chaipy) (3.7.4.3)\n",
            "Collecting log_symbols>=0.0.14\n",
            "  Downloading https://files.pythonhosted.org/packages/28/5d/d710c38be68b0fb54e645048fe359c3904cc3cb64b2de9d40e1712bf110c/log_symbols-0.0.14-py3-none-any.whl\n",
            "Collecting spinners>=0.0.24\n",
            "  Downloading https://files.pythonhosted.org/packages/9f/8e/3310207a68118000ca27ac878b8386123628b335ecb3d4bec4743357f0d1/spinners-0.0.24-py3-none-any.whl\n",
            "Requirement already satisfied: termcolor>=1.1.0 in /usr/local/lib/python3.7/dist-packages (from halo>=0.0.31->chaipy) (1.1.0)\n",
            "Requirement already satisfied: six>=1.12.0 in /usr/local/lib/python3.7/dist-packages (from halo>=0.0.31->chaipy) (1.15.0)\n",
            "Requirement already satisfied: idna<3,>=2.5 in /usr/local/lib/python3.7/dist-packages (from requests>=2.23.0->chaipy) (2.10)\n",
            "Requirement already satisfied: urllib3!=1.25.0,!=1.25.1,<1.26,>=1.21.1 in /usr/local/lib/python3.7/dist-packages (from requests>=2.23.0->chaipy) (1.24.3)\n",
            "Requirement already satisfied: certifi>=2017.4.17 in /usr/local/lib/python3.7/dist-packages (from requests>=2.23.0->chaipy) (2021.5.30)\n",
            "Requirement already satisfied: chardet<4,>=3.0.2 in /usr/local/lib/python3.7/dist-packages (from requests>=2.23.0->chaipy) (3.0.4)\n",
            "Building wheels for collected packages: halo\n",
            "  Building wheel for halo (setup.py) ... \u001b[?25l\u001b[?25hdone\n",
            "  Created wheel for halo: filename=halo-0.0.31-cp37-none-any.whl size=11263 sha256=0f933162413ab7e7622ed547723f5744b297af4ce96166211ebee82f83d01dfb\n",
            "  Stored in directory: /root/.cache/pip/wheels/72/ca/3d/c8b682f6b166960e8880be54e92a0acd6f6279d26a138401ac\n",
            "Successfully built halo\n",
            "Installing collected packages: segno, colorama, log-symbols, spinners, halo, chaipy\n",
            "Successfully installed chaipy-0.3.3 colorama-0.4.4 halo-0.0.31 log-symbols-0.0.14 segno-1.3.3 spinners-0.0.24\n",
            "2021-06-20 15:05:52 | INFO     | EchoBot | Hello, world!\n",
            "Starting TRoom. Press ctrl-c to escape.\n",
            "<<< __first\n",
            ">>> Echo: __first\n",
            "Enter your message: dddd\n",
            "<<< dddd\n",
            ">>> Echo: dddd\n",
            "Interrupted TRoom.\n"
          ],
          "name": "stdout"
        }
      ]
    },
    {
      "cell_type": "markdown",
      "metadata": {
        "id": "djlFpxXH4CoO"
      },
      "source": [
        "# Assignments\n"
      ]
    },
    {
      "cell_type": "code",
      "metadata": {
        "id": "7q17JevtRKJZ"
      },
      "source": [
        "# Challenge 1: Try to calculate the sum of all integers between 0 to 100 in your own way.\n",
        "# Challenge 2: Try to define a function which can take 2 parameters of integers, and calculate the sum of all the integers in between.\n",
        "# Challenge 3: Try to make the function you created for Challenge able to handle inappropriate input exceptions elegantly."
      ],
      "execution_count": null,
      "outputs": []
    },
    {
      "cell_type": "markdown",
      "metadata": {
        "id": "V7U2orS8siDr"
      },
      "source": [
        "Challenge 4 (Difficult!): Try to define a class of \"mathBot\" which has the following features:\n",
        "- Can be created with arguments that specify date of creation, the name of the created instance, and other properties. These properties should be also editable.\n",
        "- Comes with a memory module that can store/retrieve/update/eliminate data in number into/from different datasets with different label names.\n",
        "- Comes with a stat module that can analyze the stored datasets statistically, such as generating the mean, median, variance, etc.\n",
        "- Is able to handle invalid input.\n",
        "- (Optional and Even Harder! Do it if you enjoy and want to explore) You can build your new class on the base of ChaiBot from Chai.ml! Try it out by referencing this guide: https://collectednotes.com/chai/your-first-chat-ai-in-10-minutes\n",
        "- (To Inifinity and Beyond): You can deploy your bot directly to chai.ml and play with it (Would be discussed on Section 4).\n",
        "    - In addition the the guide provided above, try this one: https://chai.ml/docs/basic\n"
      ]
    }
  ]
}