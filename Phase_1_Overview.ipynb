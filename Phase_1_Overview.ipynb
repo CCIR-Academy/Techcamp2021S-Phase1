{
  "nbformat": 4,
  "nbformat_minor": 0,
  "metadata": {
    "colab": {
      "name": "Phase_1_Overview.ipynb",
      "provenance": [],
      "collapsed_sections": [],
      "authorship_tag": "ABX9TyOQIWhYt0bi39uSydIHQLXD",
      "include_colab_link": true
    },
    "kernelspec": {
      "name": "python3",
      "display_name": "Python 3"
    },
    "language_info": {
      "name": "python"
    }
  },
  "cells": [
    {
      "cell_type": "markdown",
      "metadata": {
        "id": "view-in-github",
        "colab_type": "text"
      },
      "source": [
        "<a href=\"https://colab.research.google.com/github/CCIR-Academy/Techcamp2021S-Phase1/blob/main/Phase_1_Overview.ipynb\" target=\"_parent\"><img src=\"https://colab.research.google.com/assets/colab-badge.svg\" alt=\"Open In Colab\"/></a>"
      ]
    },
    {
      "cell_type": "markdown",
      "metadata": {
        "id": "GmapuqasK5OE"
      },
      "source": [
        "# Phase 1: General Introduction to Programming via Python (4 Weeks)\n",
        "\n",
        "## Course Design\n",
        "\n",
        "### Goals\n",
        "1. **Get familiar with the routine practices of programming**:\n",
        "  - How programmers connect to each other and work together (e.g. git repos, commit messages, issues, pull requests, discussions, social media)\n",
        "  - How programmers prepare their environment of working (e.g., IDEs, Environments)\n",
        "  - What common concepts or patterns of thinking programmers use (e.g., data types, conditions, loops, functions, objects, classes, coding styles)\n",
        "2. **Build operational connection to communities of developers**:\n",
        "  - Know how to navigate to the right material for references;\n",
        "  - Know how to get help by searching the right keywords;\n",
        "  - Know how to ask the right questions in the right manner at the right place when references and searching do not help;\n",
        "3. **Gain on-hand experience and master general skills to know**:\n",
        "  - How to program freely with the standard libraries.\n",
        "  - How to learn how to use any third-party libraries.\n",
        "  - How to design and code for their topic of projects for later phases.\n",
        "\n",
        "### Audience Assumptions\n",
        "  - General curiosity to programming.\n",
        "  - High school level of skills in material reading , instructions following, logical thinking, and written expressions.\n",
        "\n"
      ]
    },
    {
      "cell_type": "markdown",
      "metadata": {
        "id": "QO_U9bgwOS8X"
      },
      "source": [
        "### Forms of Instruction\n",
        "1. **Self-Paced Individual Learning**  (Including around 15 minutes of videos in total and other reading materials.)\n",
        "  - **Mode of Instruction**: Learn through consuming independently a series of provided material (in both videos and readings/tutorials).\n",
        "  - **Features**: Tailored for self-driven, visual-oriented, or previously experienced learners, as well as those who need to catch up misses sections or review.\n",
        "2. **Interactive Learning (Choose One of Two)** (Once a week) (One hour)\n",
        "- **Option I: Structured Lecturing**\n",
        "  - **Mode of Instruction**: In more traditional approach, lecture along the arranged contents, and make sure all participants have mastered all the expected skills.\n",
        "  - **Features**: Tailored for less self-driven, or interaction-oriented learners, expecting no efforts paid in advance to the previous self-paced individual learning.\n",
        "  - **Required Commitment**: On time and complete participance.\n",
        "- **Option II: Unstructured Lecturing**\n",
        "  - **Mode of Instruction**: In more responsive approach, collect and answers questions that are commonly met during the self-paced individual learning processes,  guide students in more unstructured and interactive ways, and make sure all students have mastered all the expected skills.\n",
        "  - **Features**: Tailored for somewhat self-driven or prefer not to attend traditional forms of lectures.\n",
        "  - **Required Commitment**: Exhibited mastery of all the expected skills.\n",
        "3. **Coding Sessions** (Three Times a week) (One hour each, Three hours in total)\n",
        "  - **Mode of Instruction**: \n",
        "      - Semi-structured gathering on Discord (either Voice or Text) as learners code freely on assignments or projects and ask instructors questions whenever they feel necessary.\n",
        "      - Relatively more structured discussions on GitHub where learners and instructors take part in solving more personalized questions.\n",
        "  - **Features**: Tailored for learners who love group learning experience. \n",
        "  - **Required Commitment**: Optional but encouraged attendance.\n",
        "  - **Note**: Instructors of these sessions will make sure that all discussions posted before the session time are sufficiently answered by the end of the session each week.\n",
        "\n",
        "4. **Seminars** (Once a week, one hour in total)\n",
        "  - **Mode of Instruction**: \n",
        "      - **Guest Speakers**: Structured lectures provided by selected speakers.\n",
        "      - **Group Discussion** :  Somewhat moderated group discussions.\n",
        "  - **Required Commitment**: On time and complete participance.\n",
        "\n",
        "## Prepare For Phase 1\n",
        "- Join the discord channel: Chat, talk ,and discuss before and during the program\n",
        "  - Use this link to join CCIR Techcamp @ Discord: https://discord.gg/kPeKzMBVtD\n",
        "- Create a GitHub account: We will use GitHub for storing our repositories.\n",
        "  - Our GitHub Organization Page: https://github.com/CCIR-Academy\n",
        "    - You will be invited to the organization and to collaborate on team repositories.\n",
        "- Create a Google Account: We will use Colab for an online learning experience with Jupyter Notebook.\n",
        "  - All course Jupyter notebooks would include a link to opening at Google Colab.\n",
        "- Environment and devices configured for smooth online video meeting experience.\n",
        "  - We will use Zoom as our main video conference software."
      ]
    }
  ]
}