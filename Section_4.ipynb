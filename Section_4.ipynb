{
  "nbformat": 4,
  "nbformat_minor": 0,
  "metadata": {
    "colab": {
      "name": "Section_4.ipynb",
      "provenance": [],
      "collapsed_sections": [],
      "authorship_tag": "ABX9TyNcrpyEWZNs3KFrVH0RXOeH",
      "include_colab_link": true
    },
    "kernelspec": {
      "name": "python3",
      "display_name": "Python 3"
    },
    "language_info": {
      "name": "python"
    }
  },
  "cells": [
    {
      "cell_type": "markdown",
      "metadata": {
        "id": "view-in-github",
        "colab_type": "text"
      },
      "source": [
        "<a href=\"https://colab.research.google.com/github/CCIR-Academy/Techcamp2021S-Phase1/blob/main/Section_4.ipynb\" target=\"_parent\"><img src=\"https://colab.research.google.com/assets/colab-badge.svg\" alt=\"Open In Colab\"/></a>"
      ]
    },
    {
      "cell_type": "markdown",
      "metadata": {
        "id": "s-FrWRgCITc7"
      },
      "source": [
        "# Section 4: Third Party Libraries for Various Realms & Wrapping Up\n",
        "\n",
        "## Why Third Party Library\n",
        "\n",
        "## Research Oriented Libraries\n",
        "\n",
        "\n",
        "## Application Oriented Libraries\n",
        "\n",
        "\n",
        "## Development Oriented Libraries\n",
        "\n",
        "\n",
        "## Realms Limited for Python\n"
      ]
    }
  ]
}