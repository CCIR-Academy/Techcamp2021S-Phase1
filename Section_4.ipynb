{
  "nbformat": 4,
  "nbformat_minor": 0,
  "metadata": {
    "colab": {
      "name": "Section_4.ipynb",
      "provenance": [],
      "collapsed_sections": [],
      "toc_visible": true,
      "authorship_tag": "ABX9TyMhL5o2aL+lAj8lO56advJ2",
      "include_colab_link": true
    },
    "kernelspec": {
      "name": "python3",
      "display_name": "Python 3"
    },
    "language_info": {
      "name": "python"
    }
  },
  "cells": [
    {
      "cell_type": "markdown",
      "metadata": {
        "id": "view-in-github",
        "colab_type": "text"
      },
      "source": [
        "<a href=\"https://colab.research.google.com/github/CCIR-Academy/Techcamp2021S-Phase1/blob/main/Section_4.ipynb\" target=\"_parent\"><img src=\"https://colab.research.google.com/assets/colab-badge.svg\" alt=\"Open In Colab\"/></a>"
      ]
    },
    {
      "cell_type": "markdown",
      "metadata": {
        "id": "s-FrWRgCITc7"
      },
      "source": [
        "# Section 4: Third Party Libraries for Various Realms & Wrapping Up"
      ]
    },
    {
      "cell_type": "markdown",
      "metadata": {
        "id": "4QKFKltz2Yaa"
      },
      "source": [
        "## Why Third Party Library\n",
        "- Python as the \"glue language\": Python has been popular in many different areas in which many excellent third party packages or wrappers (i.e., wrapping/translating packages that allow you to incorporate features from packages natively written in other languages by using certain common interfaces) have been developed and distributed. With distribution systems like pypi, users can start developing more abstract projects directly instead of \"building the wheels again\".\n"
      ]
    },
    {
      "cell_type": "markdown",
      "metadata": {
        "id": "CJRsEjs12U8o"
      },
      "source": [
        "# Research Oriented Libraries\n",
        "- Scientific Python: SciPy (https://www.scipy.org/)\n",
        "    - pandas (included in Anaconda): Data structures & analysis\n",
        "        - https://www.w3schools.com/python/pandas/default.asp\n",
        "    - numpy(included in Anaconda): Base N-dimensional Array\n",
        "        - https://www.w3schools.com/python/numpy/default.asp\n",
        "    - Matplotlib: Comprehensive 2-D plotting:\n",
        "        - https://www.w3schools.com/python/matplotlib_intro.asp\n",
        "    - SciPy library: Fundamental library for scientific computing\n",
        "        - https://www.w3schools.com/python/scipy/index.php\n",
        "    - SymPy: Symbolic mathematics\n",
        "- Data Science: https://www.w3schools.com/datascience/default.asp\n",
        "    - Statsmodels\n",
        "\n"
      ]
    },
    {
      "cell_type": "markdown",
      "metadata": {
        "id": "ZEk2Dyj_2dIn"
      },
      "source": [
        "# Application Oriented Libraries\n",
        "Applying cutting-edge advancement in algorithms in new realms of life.\n",
        "- Machine Learning in General: https://www.w3schools.com/python/python_ml_getting_started.asp\n",
        "    - scikit-learn\n",
        "        - Intro to Deep Learning\n",
        "- Natural Language Processing:\n",
        "    - spaCy?\n",
        "\n"
      ]
    },
    {
      "cell_type": "markdown",
      "metadata": {
        "id": "ZopYstGL2fJQ"
      },
      "source": [
        "# Development Oriented Libraries\n",
        "Mastering on-hand experience and developing actual products.\n",
        "- Web Development (Backend):\n",
        "    - requests\n",
        "    - flask\n",
        "    - sqlalchemy\n",
        "    - Optional: Segway to Frontend Developing with CSS, JavaScript and Vue/React\n",
        "- Web Scraping:\n",
        "    - BeautifulSoup\n",
        "    - Selenium\n",
        "- Computer Vision: \n",
        "    - opencv\n",
        "- Desktop Software with GUI Developing:\n",
        "    - PyQt\n",
        "    - win32gui\n",
        "    - Multimedia Processing:\n",
        "        - ffmpeg\n",
        "        - PIL\n",
        "- Quantitative Investing:\n",
        "    - Binance-connector\n",
        "\n",
        "\n"
      ]
    },
    {
      "cell_type": "markdown",
      "metadata": {
        "id": "vH6nxvyP2gv-"
      },
      "source": [
        "# Realms Limited for Python\n",
        "Transition to learning other languages.\n",
        "- Embedded Development: e.g. Single-Chip Microcomputer/Arduino with C\n",
        "- Game Development: Unity with C#\n",
        "- Large Scale Desktop/Server Software Development: Spring with JAVA, .NET with C#\n",
        "- Mobile Development: HTML5, iOS App with Swift/Obj-C "
      ]
    },
    {
      "cell_type": "markdown",
      "metadata": {
        "id": "UyQxkVRM2v_r"
      },
      "source": [
        "# Summary of Phase 1"
      ]
    },
    {
      "cell_type": "markdown",
      "metadata": {
        "id": "aIHA0YvU7tCP"
      },
      "source": [
        "# Assignment"
      ]
    },
    {
      "cell_type": "markdown",
      "metadata": {
        "id": "hytDPCFO7waX"
      },
      "source": [
        "## Task 1: Deploy your bot to Chai.ml. \n",
        "(Also refer to https://chai.ml/docs/)\n",
        "1. Register at https://chai.ml/dev/, and obtain your `DEVELOPER_UID` and `DEVELOPER_KEY`\n",
        "2. Under the same directory where the bot created in the last Section is, compose the `uploader.py` and replace the `DEVELOPER_UID` and `DEVELOPER_KEY` with yours. Also change the pacakge information and `BOT_IMAGE_URL` as you wish.\n",
        "    - You may find further help on https://chai.ml/docs/basic\n",
        "\n",
        "```python\n",
        "from chai_py import Metadata, package, upload_and_deploy, wait_for_deployment\n",
        "from chai_py import share_bot\n",
        "from chai_py.auth import set_auth\n",
        "\n",
        "from starter_bot import Bot\n",
        "\n",
        "from chai_py.defaults import GUEST_UID, GUEST_KEY\n",
        "\n",
        "DEVELOPER_UID = None\n",
        "DEVELOPER_KEY = None\n",
        "\n",
        "if DEVELOPER_KEY is None or DEVELOPER_UID is None:\n",
        "    raise RuntimeError(\"Please fetch your UID and KEY from the bottom of the Chai Developer Platform. https://chai.ml/dev\")\n",
        "\n",
        "set_auth(DEVELOPER_UID, DEVELOPER_KEY)\n",
        "BOT_IMAGE_URL = \"https://cutt.ly/lx0gnM9\"\n",
        "\n",
        "package(\n",
        "    Metadata(\n",
        "        name=\"Your First Bot! 🎉 🤖\",\n",
        "        image_url=BOT_IMAGE_URL,\n",
        "        color=\"f1a2b3\",\n",
        "        description=\"Thank you for creating me ❤️\",\n",
        "        input_class=Bot,\n",
        "     )\n",
        ")\n",
        "\n",
        "bot_uid = upload_and_deploy(\n",
        "    \"_package.zip\"\n",
        ")\n",
        "\n",
        "wait_for_deployment(bot_uid)\n",
        "\n",
        "share_bot(bot_uid)\n",
        "```\n",
        "3. Run the script by executing `python uploader.py.` to deploy your bot.\n",
        "4. Confirm that your bot is successfully created and running on on Chai.ml\n",
        "5. Stage and commit your code and push to the library."
      ]
    },
    {
      "cell_type": "markdown",
      "metadata": {
        "id": "yEszQNvj-OLd"
      },
      "source": [
        "## Task 2: Obtain data from a WebSocket service and store them properly.\n",
        "1. Compose your `CollectData.py` on the basis of the following code.\n",
        "\n",
        "```python\n",
        "import time\n",
        "import logging\n",
        "from binance.lib.utils import config_logging\n",
        "from binance.websocket.spot.websocket_client import SpotWebsocketClient as Client\n",
        "\n",
        "config_logging(logging, logging.DEBUG)\n",
        "\n",
        "\n",
        "def message_handler(message):\n",
        "    print(message)\n",
        "\n",
        "\n",
        "my_client = Client()\n",
        "my_client.start()\n",
        "\n",
        "my_client.agg_trade(\n",
        "    symbol=\"btcusdt\",\n",
        "    id=1,\n",
        "    callback=message_handler,\n",
        ")\n",
        "\n",
        "time.sleep(2)\n",
        "\n",
        "my_client.agg_trade(\n",
        "    symbol=\"bnbusdt\",\n",
        "    id=2,\n",
        "    callback=message_handler,\n",
        ")\n",
        "\n",
        "time.sleep(60)\n",
        "\n",
        "logging.debug(\"closing ws connection\")\n",
        "my_client.stop()\n",
        "```\n",
        "\n",
        "2. Prepare the local environment for such code to run properly.\n",
        "3. If run properly, the program will continously receive stream data from Binance and be handled by `message_handler(message)` for 60 seconds. However, at this moment the program will only print the latest data on the screen. Your task is to obtain and store them locally in an appropriate way."
      ]
    }
  ]
}