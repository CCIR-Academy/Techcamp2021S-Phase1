{
  "nbformat": 4,
  "nbformat_minor": 0,
  "metadata": {
    "colab": {
      "name": "Section_4.ipynb",
      "provenance": [],
      "collapsed_sections": [],
      "authorship_tag": "ABX9TyN5HBoZMlfM8rsiBBkCDfBO",
      "include_colab_link": true
    },
    "kernelspec": {
      "name": "python3",
      "display_name": "Python 3"
    },
    "language_info": {
      "name": "python"
    }
  },
  "cells": [
    {
      "cell_type": "markdown",
      "metadata": {
        "id": "view-in-github",
        "colab_type": "text"
      },
      "source": [
        "<a href=\"https://colab.research.google.com/github/CCIR-Academy/Techcamp2021S-Phase1/blob/main/Section_4.ipynb\" target=\"_parent\"><img src=\"https://colab.research.google.com/assets/colab-badge.svg\" alt=\"Open In Colab\"/></a>"
      ]
    },
    {
      "cell_type": "markdown",
      "metadata": {
        "id": "s-FrWRgCITc7"
      },
      "source": [
        "# Section 4: Third Party Libraries for Various Realms & Wrapping Up"
      ]
    },
    {
      "cell_type": "markdown",
      "metadata": {
        "id": "4QKFKltz2Yaa"
      },
      "source": [
        "## Why Third Party Library\n",
        "- Python as the \"glue language\": Python has been popular in many different areas in which many excellent third party packages or wrappers (i.e., wrapping/translating packages that allow you to incorporate features from packages natively written in other languages by using certain common interfaces) have been developed and distributed. With distribution systems like pypi, users can start developing more abstract projects directly instead of \"building the wheels again\".\n"
      ]
    },
    {
      "cell_type": "markdown",
      "metadata": {
        "id": "CJRsEjs12U8o"
      },
      "source": [
        "# Research Oriented Libraries\n",
        "- Scientific Python: SciPy (https://www.scipy.org/)\n",
        "    - pandas (included in Anaconda): Data structures & analysis\n",
        "    - numpy(included in Anaconda): Base N-dimensional Array\n",
        "    - Matplotlib: Comprehensive 2-D plotting:\n",
        "    - SciPy library: Fundamental library for scientific computing\n",
        "    - SymPy: Symbolic mathematics\n",
        "- Data Science:\n",
        "    - Statsmodels\n",
        "\n"
      ]
    },
    {
      "cell_type": "markdown",
      "metadata": {
        "id": "ZEk2Dyj_2dIn"
      },
      "source": [
        "# Application Oriented Libraries\n",
        "Applying cutting-edge advancement in algorithms in new realms of life.\n",
        "- Machine Learning in General:\n",
        "    - scikit-learn\n",
        "        - Intro to Deep Learning\n",
        "- Natural Language Processing:\n",
        "    - spaCy?\n",
        "\n"
      ]
    },
    {
      "cell_type": "markdown",
      "metadata": {
        "id": "ZopYstGL2fJQ"
      },
      "source": [
        "# Development Oriented Libraries\n",
        "Mastering on-hand experience and developing actual products.\n",
        "- Web Development (Backend):\n",
        "    - requests\n",
        "    - flask\n",
        "    - sqlalchemy\n",
        "    - Optional: Segway to Frontend Developing with CSS, JavaScript and Vue/React\n",
        "- Web Scraping:\n",
        "    - BeautifulSoup\n",
        "    - Selenium\n",
        "- Computer Vision: \n",
        "    - opencv\n",
        "- Desktop Software with GUI Developing:\n",
        "    - PyQt\n",
        "    - win32gui\n",
        "    - Multimedia Processing:\n",
        "        - ffmpeg\n",
        "        - PIL\n",
        "- Quantitative Investing:\n",
        "\n",
        "\n"
      ]
    },
    {
      "cell_type": "markdown",
      "metadata": {
        "id": "vH6nxvyP2gv-"
      },
      "source": [
        "# Realms Limited for Python\n",
        "Transition to learning other languages.\n",
        "- Embedded Development: e.g. Single-Chip Microcomputer/Arduino with C\n",
        "- Game Development: Unity with C#\n",
        "- Large Scale Desktop/Server Software Development: Spring with JAVA, .NET with C#\n",
        "- Mobile Development: HTML5, iOS App with Swift/Obj-C "
      ]
    },
    {
      "cell_type": "markdown",
      "metadata": {
        "id": "UyQxkVRM2v_r"
      },
      "source": [
        "# Summary of Phase 1"
      ]
    }
  ]
}