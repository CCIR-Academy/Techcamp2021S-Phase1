{
  "nbformat": 4,
  "nbformat_minor": 0,
  "metadata": {
    "colab": {
      "name": "Section_1.ipynb",
      "provenance": [],
      "collapsed_sections": [],
      "toc_visible": true,
      "authorship_tag": "ABX9TyOdrMo70hgHB1K2Qb5C9LLo",
      "include_colab_link": true
    },
    "kernelspec": {
      "name": "python3",
      "display_name": "Python 3"
    },
    "language_info": {
      "name": "python"
    }
  },
  "cells": [
    {
      "cell_type": "markdown",
      "metadata": {
        "id": "view-in-github",
        "colab_type": "text"
      },
      "source": [
        "<a href=\"https://colab.research.google.com/github/CCIR-Academy/Techcamp2021S-Phase1/blob/main/Section_1.ipynb\" target=\"_parent\"><img src=\"https://colab.research.google.com/assets/colab-badge.svg\" alt=\"Open In Colab\"/></a>"
      ]
    },
    {
      "cell_type": "markdown",
      "metadata": {
        "id": "t8uykG-Wqi46"
      },
      "source": [
        "# Section 1: Programmer's Community\n",
        "\n",
        "\n",
        "\n",
        "\n"
      ]
    },
    {
      "cell_type": "markdown",
      "metadata": {
        "id": "8mnVhVfyq3Ww"
      },
      "source": [
        "## Table of Contents\n",
        "- Programmer's Community:\n",
        "  - GitHub\n",
        "    - Repo\n",
        "    - Git\n",
        "  - StackOverflow\n",
        "  - Dev.to\n",
        "  - Discord\n",
        "- IDE\n",
        "  - Visual Studio Code\n",
        "  - Why and How to Use Python with Anaconda\n",
        "  - Run and debug with VS Code\n",
        "  - Jupyters Notebook with Colab\n",
        "- Self-Learning\n",
        "  - Guide\n",
        "    - https://www.learnpython.org/\n",
        "    - https://www.tutorialspoint.com/python/index.htm\n",
        "    - https://www.w3schools.com/python/\n",
        "    - https://www.kaggle.com/learn/python\n",
        "    - https://www.fullstackpython.com/\n",
        "  - Documentations\n",
        "- Assignments\n",
        "\n",
        "\n",
        "\n"
      ]
    },
    {
      "cell_type": "markdown",
      "metadata": {
        "id": "GwGl5x8lryPr"
      },
      "source": [
        "## Assignments\n",
        "\n",
        "- Task 1\n",
        "  - Obj. 1: Know how to set up a repo on GitHub in VSCode. \n",
        "  - Obj. 2: Know how to clone a repo from GitHub in VSCode\n",
        "  - Obj. 3: Know how to stage, commit with readable and meaningful commit message, and push the update.\n",
        "- Task 2\n",
        "  - Obj. 1: Know how to fork a repo\n",
        "  - Obj. 2: Know how to set up a new python virtual environment with Anaconda.\n",
        "  - Obj. 3: Know how to reproduce the required environment by reqirements.txt\n",
        "  - Obj. 4: Know how to run and debug.\n",
        "  - Obj. 5: Know how to manage packages and output a requirements.txt\n",
        "  - Obj. 6: Know how to submit a pull request.\n",
        "  - Obj. 7: Know how to merge and pull the latest update.\n",
        "- Task 3\n",
        "  - Obj. 1: Know how to interact and compose a Jupyter Notebook on Colab."
      ]
    },
    {
      "cell_type": "markdown",
      "metadata": {
        "id": "YN5IgB3Dy3cb"
      },
      "source": [
        "# Programmer's Community\n"
      ]
    },
    {
      "cell_type": "markdown",
      "metadata": {
        "id": "Q1mdjGCm7ANl"
      },
      "source": [
        "## GitHub\n",
        "- What is GitHub: GitHub, Inc. is a provider of Internet hosting for software development and version control using Git.\n",
        "  - Git: Git (/ɡɪt/) is software for tracking changes in any set of files, usually used for coordinating work among programmers collaboratively developing source code during software development. Its goals include speed, data integrity, and support for distributed, non-linear workflows (thousands of parallel branches running on different systems).\n",
        "    - This notebook is managed with Git on GitHub!\n",
        "  - Why Git - In comparison to writing an article.\n",
        "  - What you need to know about Git:\n",
        "    - Repo/Repositories: A software repository, or “repo” for short, is a storage location for software packages. Often a table of contents is also stored, along with metadata.\n",
        "      - In comparison to \"folder\"\n",
        "    - Clone:\n",
        "    - Staging and Committing:\n",
        "    - Pull:\n",
        "    - Push:\n",
        "- More than Git:\n",
        "  - Documentations based on Markdown.\n",
        "    - Markdown is a lightweight markup language for creating formatted text using a plain-text editor. \n",
        "      - This part of the notebook is written in Markdown!\n",
        "  - Fork\n",
        "  - Pull Requests\n",
        "  - Project Management\n",
        "  - Issues and Discussion\n",
        "  - Release\n",
        "  - IDE(VS Code) Integration (Discussed in the next part)"
      ]
    },
    {
      "cell_type": "markdown",
      "metadata": {
        "id": "iNDhe9x57EZW"
      },
      "source": [
        "## Other Communities\n",
        "- StackOverflow:\n",
        "  - Quora for Programmers: A question and answer site for professional and enthusiast programmers.\n",
        "- Dev.to\n",
        "  - Twitter for Programmers\n",
        "- Discord"
      ]
    },
    {
      "cell_type": "markdown",
      "metadata": {
        "id": "hXzjK8eC29yG"
      },
      "source": [
        "# IDE\n",
        "- What is IDE: An integrated development environment (IDE) is a software application that provides comprehensive facilities to computer programmers for software development.\n",
        "  - In Comparison to Notepad:\n",
        "    - Syntax Highlighting\n",
        "    - Auto Completion\n",
        "    - Debugging\n",
        "    - Customizations\n",
        "    - Plugins\n",
        "      - Linting\n",
        "      - Integrations\n"
      ]
    },
    {
      "cell_type": "markdown",
      "metadata": {
        "id": "mj_isrzq7I-q"
      },
      "source": [
        "### Visual Studio Code\n",
        "- Visual Studio Code: A freeware source-code editor made by Microsoft for Windows, Linux and macOS.\n",
        "  - Initial Configuration:\n",
        "    - Plugins to Install\n",
        "      - Required for the course:\n",
        "        - Python\n",
        "        - Pylance\n",
        "        - Windows Terminal Integration\n",
        "      - Recommended:\n",
        "        - Prettier\n",
        "        - Path Intellisense\n",
        "        - Settings Sync\n",
        "  - Guided Assignments, Task 1: Set up and manage a repository with VS Code on GitHub (Video)\n",
        "    - Create a new repository: https://github.com/new\n",
        "      - Choose a repository name.\n",
        "      - Add a README file\n",
        "      - Add .gitignore with the template for python\n",
        "    - Clone the repository to local computer\n",
        "      - Ctrl + Shift + P, Git clone\n",
        "      - Choose a folder\n",
        "      - Log in\n",
        "    - Edit the README file.\n",
        "    - Stage, Commit with a meaningful message\n",
        "    - Push\n"
      ]
    },
    {
      "cell_type": "markdown",
      "metadata": {
        "id": "ryQA_7bP7Nte"
      },
      "source": [
        "### Why and How to Use Python (With Anaconda)\n",
        "- Why Python:\n",
        "  - My Opinion:\n",
        "    - Readability and Easiness to Write\n",
        "    - Python Community\n",
        "    - Open Source Libraries\n",
        "    - \"Glue\" Language\n",
        "    - Cross-platform\n",
        "    - Dynamic Typing\n",
        "  - Further Reading:\n",
        "    - https://www.tutorialspoint.com/python/index.htm\n",
        "    - https://www.upgrad.com/blog/reasons-why-python-popular-with-developers/\n",
        "    - https://medium.com/@mindfiresolutions.usa/python-7-important-reasons-why-you-should-use-python-5801a98a0d0b\n",
        "- How to Use Python with Anaconda:\n",
        "  - What is Anaconda: Anaconda is a distribution of the Python and R programming languages for scientific computing (data science, machine learning applications, large-scale data processing, predictive analytics, etc.), that aims to simplify package management and deployment. \n",
        "    - Environment/Package Management\n",
        "    - Download: https://www.anaconda.com/products/individual\n",
        "- Guided Assignments, Task 2: Run and Debug in VSCode within an environment in Anaconda\n",
        "    - Fork the repo created in Task 1 and clone to local environment.\n",
        "    - Add the following code into the file and files.\n",
        "    - Install and initiate Anaconda, and create a new virtual environment\n",
        "    - Install packages by requirements.txt\n",
        "    - Debug and fix the \"Modules not found\" bug.\n",
        "    - Output the new requirements.txt\n",
        "    - Stage, commit with a meaningful message, push\n",
        "    - Submit a PR (pull request)\n",
        "    - Approve the PR and merge it.\n",
        "\n",
        "\n"
      ]
    },
    {
      "cell_type": "markdown",
      "metadata": {
        "id": "5ps3qODlCCUd"
      },
      "source": [
        "### Jupyter Notebooks with Colab\n",
        "- What is Jupyter Notebooks:\n",
        "- Why Jupyter Notebooks:\n",
        "  - My Opinion:\n",
        "    - Interactive\n",
        "    - Easier environment management\n",
        "    - Easy to output\n",
        "- How to set up your Colab environment\n",
        "- Guided Assignments, Task 3: Copy a Colab notebook and solve problems.\n",
        "  - Open the required .ipynb file and save a copy in your Google Drive\n",
        "  - Solve the problems.\n",
        "\n",
        "\n"
      ]
    },
    {
      "cell_type": "markdown",
      "metadata": {
        "id": "d2z67s8ZEm1j"
      },
      "source": [
        "# How to Learn\n"
      ]
    },
    {
      "cell_type": "markdown",
      "metadata": {
        "id": "TK4MPQfjExXT"
      },
      "source": [
        "## Self Paced Learning\n",
        "  - Guide\n",
        "    - https://www.learnpython.org/\n",
        "    - https://www.tutorialspoint.com/python/index.htm\n",
        "    - https://www.w3schools.com/python/\n",
        "    - https://www.kaggle.com/learn/python\n",
        "    - https://www.fullstackpython.com/\n",
        "  - Documentations/References\n"
      ]
    },
    {
      "cell_type": "markdown",
      "metadata": {
        "id": "n0DxI6WUE8sw"
      },
      "source": [
        "## Learn in CCIR Techcamp\n"
      ]
    }
  ]
}