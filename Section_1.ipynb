{
  "nbformat": 4,
  "nbformat_minor": 0,
  "metadata": {
    "colab": {
      "name": "Section_1.ipynb",
      "provenance": [],
      "authorship_tag": "ABX9TyMu5BnbdJJ6oFjTDfPnNHVr",
      "include_colab_link": true
    },
    "kernelspec": {
      "name": "python3",
      "display_name": "Python 3"
    },
    "language_info": {
      "name": "python"
    }
  },
  "cells": [
    {
      "cell_type": "markdown",
      "metadata": {
        "id": "view-in-github",
        "colab_type": "text"
      },
      "source": [
        "<a href=\"https://colab.research.google.com/github/CCIR-Academy/Techcamp2021S-Phase1/blob/main/Section_1.ipynb\" target=\"_parent\"><img src=\"https://colab.research.google.com/assets/colab-badge.svg\" alt=\"Open In Colab\"/></a>"
      ]
    },
    {
      "cell_type": "markdown",
      "metadata": {
        "id": "t8uykG-Wqi46"
      },
      "source": [
        "# Section 1: Programmer's Community\n",
        "\n",
        "\n",
        "\n",
        "\n"
      ]
    },
    {
      "cell_type": "markdown",
      "metadata": {
        "id": "8mnVhVfyq3Ww"
      },
      "source": [
        "## Table of Contents\n",
        "- Programmer's Community:\n",
        "  - GitHub\n",
        "    - Repo\n",
        "    - Git\n",
        "  - StackOverflow\n",
        "  - Dev.to\n",
        "  - Discord\n",
        "- IDE\n",
        "  - Visual Studio Code\n",
        "  - Why and How Python:\n",
        "    - Anaconda\n",
        "  - Run and debug with VS Code\n",
        "  - Jupyters(Colab) Notebook\n",
        "- Self-Learning\n",
        "  - Guide\n",
        "    - https://www.learnpython.org/\n",
        "    - https://www.tutorialspoint.com/python/index.htm\n",
        "    - https://www.w3schools.com/python/\n",
        "    - https://www.kaggle.com/learn/python\n",
        "  - Documentations\n",
        "- Assignments\n",
        "\n",
        "\n",
        "\n"
      ]
    },
    {
      "cell_type": "markdown",
      "metadata": {
        "id": "GwGl5x8lryPr"
      },
      "source": [
        "## Assignments\n",
        "\n",
        "- Obj. 1: Set up a repo with git. \n",
        "- Obj. 2: Set up a python environment.\n",
        "- Obj. 3: Write a basic \"hello world\" printing function.\n",
        "- Obj. 4: Know how to run and debug.\n",
        "- Obj. 5: Know how to commit and push with readable and meaningful commit message.\n",
        "- Obj. 6: Know how to fork and submit a pull request.\n",
        "- Obj. 7: Know how to merge and pull the latest update."
      ]
    }
  ]
}