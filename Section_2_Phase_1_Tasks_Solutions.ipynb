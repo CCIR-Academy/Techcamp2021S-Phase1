{
  "nbformat": 4,
  "nbformat_minor": 0,
  "metadata": {
    "colab": {
      "name": "Section_2_Phase_1_Tasks_Solutions.ipynb",
      "provenance": [],
      "collapsed_sections": [],
      "authorship_tag": "ABX9TyN3rMw1QCkEtgQvj7W7Frfl",
      "include_colab_link": true
    },
    "kernelspec": {
      "name": "python3",
      "display_name": "Python 3"
    },
    "language_info": {
      "name": "python"
    }
  },
  "cells": [
    {
      "cell_type": "markdown",
      "metadata": {
        "id": "view-in-github",
        "colab_type": "text"
      },
      "source": [
        "<a href=\"https://colab.research.google.com/github/CCIR-Academy/Techcamp2021S-Phase1/blob/main/Section_2_Phase_1_Tasks_Solutions.ipynb\" target=\"_parent\"><img src=\"https://colab.research.google.com/assets/colab-badge.svg\" alt=\"Open In Colab\"/></a>"
      ]
    },
    {
      "cell_type": "code",
      "metadata": {
        "colab": {
          "base_uri": "https://localhost:8080/"
        },
        "id": "j273qgsQFhPC",
        "outputId": "33c1be79-63cd-4668-9795-53de0a6e9073"
      },
      "source": [
        "# Challenge 1: Try to calculate the sum of all integers between 0 to 100 in your own way.\n",
        "sum([x for x in range(100+1)])"
      ],
      "execution_count": null,
      "outputs": [
        {
          "output_type": "execute_result",
          "data": {
            "text/plain": [
              "5050"
            ]
          },
          "metadata": {
            "tags": []
          },
          "execution_count": 2
        }
      ]
    },
    {
      "cell_type": "code",
      "metadata": {
        "colab": {
          "base_uri": "https://localhost:8080/"
        },
        "id": "dqEUrgq0FpZs",
        "outputId": "683acdec-0237-439c-ca48-1183fc817bd6"
      },
      "source": [
        "# Challenge 2: Try to define a function which can take 2 parameters of integers, and calculate the sum of all the integers in between.\n",
        "def sumIntegers(min:int, max:int) -> int:\n",
        "    return(sum([x for x in range(min, max +1)]))\n",
        "\n",
        "\n",
        "sumIntegers(0, 100)\n",
        "        \n"
      ],
      "execution_count": null,
      "outputs": [
        {
          "output_type": "execute_result",
          "data": {
            "text/plain": [
              "5050"
            ]
          },
          "metadata": {
            "tags": []
          },
          "execution_count": 5
        }
      ]
    },
    {
      "cell_type": "code",
      "metadata": {
        "id": "czF4zXFTFqUN"
      },
      "source": [
        "# Challenge 3: Try to make the function you created for Challenge able to handle inappropriate input exceptions elegantly.\n",
        "def sumIntegers(min:int, max:int) -> int:   # This line contains some Type Hint for Python to help type handling for developers. Not necessary but recommended if you are doing team projects. \n",
        "    try:\n",
        "        return(sum([x for x in range(min, max +1)]))\n",
        "    except Error as err:\n",
        "        print(err)\n",
        "\n",
        "\n",
        "sumIntegers(0, 100)"
      ],
      "execution_count": null,
      "outputs": []
    },
    {
      "cell_type": "markdown",
      "metadata": {
        "id": "46pXkEZFGuvq"
      },
      "source": [
        "Challenge 4 (Difficult!): Try to define a class of \"mathBot\" which has the following features:\n",
        "- Can be created with arguments that specify date of creation, the name of the created instance, and other properties. These properties should be also editable.\n",
        "- Comes with a memory module that can store/retrieve/update/eliminate data in number into/from different datasets with different label names.\n",
        "- Comes with a stat module that can analyze the stored datasets statistically, such as generating the mean, median, variance, etc.\n",
        "- Is able to handle invalid input."
      ]
    },
    {
      "cell_type": "code",
      "metadata": {
        "id": "DVwdpCCJGrI2"
      },
      "source": [
        "%pip install chaipy nest_asyncio\n",
        "\n",
        "\n",
        "from chai_py import ChaiBot, Update, TRoom\n",
        "import datetime, asyncio\n",
        "import nest_asyncio\n",
        "nest_asyncio.apply()\n",
        "\n",
        "# Important Note: Don't worry about all the asyncio thing as they are just tweaks to allow such bot to be run on Colab. You won't need them if you run your bot locally.\n",
        "\n",
        "\n",
        "# This bot is just for the purpose of demonstration and is not fully done yet.\n",
        "class myCCIRBot(ChaiBot):        \n",
        "    def setup(self) -> None:\n",
        "        self.logger.info(\"Hello, world!\")\n",
        "        name = input(\"Please give me a name if you don't want to call me CCIRBot!\") or \"CCIRBot\"\n",
        "        parentName = input(\"Please tell me who created me if I am not created by Alive24!\") or \"Alive24\"\n",
        "        self.botName = name\n",
        "        self.dateOfCreation = datetime.datetime.now()\n",
        "        self.parentName = parentName\n",
        "        self.dataStorageDict = {}\n",
        "    def storeData():\n",
        "        return\n",
        "    async def on_message(self, update: Update) -> str:\n",
        "        if update.latest_message.text == \"name\":\n",
        "            return f\"My name is {self.botName}\"\n",
        "        if update.latest_message.text == \"parent\":\n",
        "            return f\"I was created by {self.botName} on {self.dateOfCreation.strftime('%Y-%m-%d')}.\"\n",
        "        return f\"Echo: {update.latest_message.text}\"\n",
        "\n",
        "t_room = TRoom([myCCIRBot()])\n",
        "t_room.chat()"
      ],
      "execution_count": null,
      "outputs": []
    }
  ]
}