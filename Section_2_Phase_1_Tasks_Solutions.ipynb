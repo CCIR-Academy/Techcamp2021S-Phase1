{
 "cells": [
  {
   "cell_type": "markdown",
   "metadata": {
    "colab_type": "text",
    "id": "view-in-github"
   },
   "source": [
    "<a href=\"https://colab.research.google.com/github/CCIR-Academy/Techcamp2021S-Phase1/blob/main/Section_2_Phase_1_Tasks_Solutions.ipynb\" target=\"_parent\"><img src=\"https://colab.research.google.com/assets/colab-badge.svg\" alt=\"Open In Colab\"/></a>"
   ]
  },
  {
   "cell_type": "markdown",
   "metadata": {},
   "source": [
    "# Challenge 1\n",
    "Try to calculate the sum of all integers between 0 to 100 in your own way."
   ]
  },
  {
   "cell_type": "code",
   "execution_count": 2,
   "metadata": {
    "colab": {
     "base_uri": "https://localhost:8080/"
    },
    "id": "j273qgsQFhPC",
    "outputId": "33c1be79-63cd-4668-9795-53de0a6e9073"
   },
   "outputs": [
    {
     "data": {
      "text/plain": [
       "5050"
      ]
     },
     "execution_count": 2,
     "metadata": {},
     "output_type": "execute_result"
    }
   ],
   "source": [
    "# example 1\n",
    "sum([x for x in range(100+1)])"
   ]
  },
  {
   "cell_type": "code",
   "execution_count": 3,
   "metadata": {},
   "outputs": [
    {
     "name": "stdout",
     "output_type": "stream",
     "text": [
      "5050\n"
     ]
    }
   ],
   "source": [
    "# example 2\n",
    "sum_ = 0\n",
    "end_exclusive = 100 + 1\n",
    "for i in range(0,end_exclusive):\n",
    "    # same as \n",
    "    # sum = sum + i \n",
    "    sum_ += i\n",
    "print(sum_)"
   ]
  },
  {
   "cell_type": "code",
   "execution_count": 4,
   "metadata": {},
   "outputs": [
    {
     "name": "stdout",
     "output_type": "stream",
     "text": [
      "5050\n"
     ]
    }
   ],
   "source": [
    "# example 3\n",
    "print(sum(range(101)))"
   ]
  },
  {
   "cell_type": "code",
   "execution_count": 5,
   "metadata": {},
   "outputs": [
    {
     "name": "stdout",
     "output_type": "stream",
     "text": [
      "5050.0\n"
     ]
    }
   ],
   "source": [
    "# example 4\n",
    "\n",
    "# analytical expressions may get rid of expensive loops altogether!!\n",
    "\n",
    "n = 100\n",
    "sum_ = n * (n + 1)/ 2\n",
    "print(sum_)"
   ]
  },
  {
   "cell_type": "markdown",
   "metadata": {},
   "source": [
    "# Challenge 2:\n",
    "Try to define a function which can take 2 parameters of integers, and calculate the sum of all the integers in between.\n"
   ]
  },
  {
   "cell_type": "code",
   "execution_count": 6,
   "metadata": {
    "colab": {
     "base_uri": "https://localhost:8080/"
    },
    "id": "dqEUrgq0FpZs",
    "outputId": "683acdec-0237-439c-ca48-1183fc817bd6"
   },
   "outputs": [
    {
     "data": {
      "text/plain": [
       "5050"
      ]
     },
     "execution_count": 6,
     "metadata": {},
     "output_type": "execute_result"
    }
   ],
   "source": [
    "def sumIntegers(min:int, max:int) -> int:\n",
    "    return(sum([x for x in range(min, max +1)]))\n",
    "\n",
    "\n",
    "sumIntegers(0, 100)\n",
    "        \n"
   ]
  },
  {
   "cell_type": "markdown",
   "metadata": {},
   "source": [
    "# Challenge 3:\n",
    "Try to make the function you created for Challenge able to handle inappropriate input exceptions elegantly.\n"
   ]
  },
  {
   "cell_type": "code",
   "execution_count": 8,
   "metadata": {
    "id": "czF4zXFTFqUN"
   },
   "outputs": [
    {
     "name": "stdout",
     "output_type": "stream",
     "text": [
      "Successful example: 5050\n",
      "Unsuccessful example:\n",
      "'str' object cannot be interpreted as an integer\n"
     ]
    }
   ],
   "source": [
    "# example 1\n",
    "def sumIntegers(min_int:int, max_int:int) -> int:   # This line contains some Type Hint for Python to help type handling for developers. Not necessary but recommended if you are doing team projects. \n",
    "    try:\n",
    "        return (sum([x for x in range(min_int, max_int+1)]))\n",
    "    except Exception as err:\n",
    "        print(err)\n",
    "\n",
    "print(f'Successful example: {sumIntegers(0, 100)}')\n",
    "\n",
    "print('Unsuccessful example:')\n",
    "sumIntegers('4', 100)\n"
   ]
  },
  {
   "cell_type": "code",
   "execution_count": 9,
   "metadata": {},
   "outputs": [
    {
     "name": "stdout",
     "output_type": "stream",
     "text": [
      "Successful example: 5050\n",
      "Unsuccessful example:\n",
      "Oh no we ran into an error!\n",
      " our variables: 4, 100\n",
      " variable types: <class 'str'>, <class 'int'>\n"
     ]
    },
    {
     "ename": "TypeError",
     "evalue": "'str' object cannot be interpreted as an integer",
     "output_type": "error",
     "traceback": [
      "\u001b[0;31m---------------------------------------------------------------------------\u001b[0m",
      "\u001b[0;31mTypeError\u001b[0m                                 Traceback (most recent call last)",
      "\u001b[0;32m<ipython-input-9-6e79438d5097>\u001b[0m in \u001b[0;36m<module>\u001b[0;34m\u001b[0m\n\u001b[1;32m     14\u001b[0m \u001b[0;34m\u001b[0m\u001b[0m\n\u001b[1;32m     15\u001b[0m \u001b[0mprint\u001b[0m\u001b[0;34m(\u001b[0m\u001b[0;34m'Unsuccessful example:'\u001b[0m\u001b[0;34m)\u001b[0m\u001b[0;34m\u001b[0m\u001b[0;34m\u001b[0m\u001b[0m\n\u001b[0;32m---> 16\u001b[0;31m \u001b[0msumIntegers\u001b[0m\u001b[0;34m(\u001b[0m\u001b[0;34m'4'\u001b[0m\u001b[0;34m,\u001b[0m \u001b[0;36m100\u001b[0m\u001b[0;34m)\u001b[0m\u001b[0;34m\u001b[0m\u001b[0;34m\u001b[0m\u001b[0m\n\u001b[0m",
      "\u001b[0;32m<ipython-input-9-6e79438d5097>\u001b[0m in \u001b[0;36msumIntegers\u001b[0;34m(min_int, max_int)\u001b[0m\n\u001b[1;32m      9\u001b[0m         \u001b[0mprint\u001b[0m\u001b[0;34m(\u001b[0m\u001b[0;34mf' variable types: {type(min_int)}, {type(max_int)}'\u001b[0m\u001b[0;34m)\u001b[0m\u001b[0;34m\u001b[0m\u001b[0;34m\u001b[0m\u001b[0m\n\u001b[1;32m     10\u001b[0m \u001b[0;34m\u001b[0m\u001b[0m\n\u001b[0;32m---> 11\u001b[0;31m         \u001b[0;32mraise\u001b[0m \u001b[0merr\u001b[0m\u001b[0;34m\u001b[0m\u001b[0;34m\u001b[0m\u001b[0m\n\u001b[0m\u001b[1;32m     12\u001b[0m \u001b[0;34m\u001b[0m\u001b[0m\n\u001b[1;32m     13\u001b[0m \u001b[0mprint\u001b[0m\u001b[0;34m(\u001b[0m\u001b[0;34mf'Successful example: {sumIntegers(0, 100)}'\u001b[0m\u001b[0;34m)\u001b[0m\u001b[0;34m\u001b[0m\u001b[0;34m\u001b[0m\u001b[0m\n",
      "\u001b[0;32m<ipython-input-9-6e79438d5097>\u001b[0m in \u001b[0;36msumIntegers\u001b[0;34m(min_int, max_int)\u001b[0m\n\u001b[1;32m      3\u001b[0m \u001b[0;32mdef\u001b[0m \u001b[0msumIntegers\u001b[0m\u001b[0;34m(\u001b[0m\u001b[0mmin_int\u001b[0m\u001b[0;34m:\u001b[0m\u001b[0mint\u001b[0m\u001b[0;34m,\u001b[0m \u001b[0mmax_int\u001b[0m\u001b[0;34m:\u001b[0m\u001b[0mint\u001b[0m\u001b[0;34m)\u001b[0m \u001b[0;34m->\u001b[0m \u001b[0mint\u001b[0m\u001b[0;34m:\u001b[0m\u001b[0;34m\u001b[0m\u001b[0;34m\u001b[0m\u001b[0m\n\u001b[1;32m      4\u001b[0m     \u001b[0;32mtry\u001b[0m\u001b[0;34m:\u001b[0m\u001b[0;34m\u001b[0m\u001b[0;34m\u001b[0m\u001b[0m\n\u001b[0;32m----> 5\u001b[0;31m         \u001b[0;32mreturn\u001b[0m \u001b[0;34m(\u001b[0m\u001b[0msum\u001b[0m\u001b[0;34m(\u001b[0m\u001b[0;34m[\u001b[0m\u001b[0mx\u001b[0m \u001b[0;32mfor\u001b[0m \u001b[0mx\u001b[0m \u001b[0;32min\u001b[0m \u001b[0mrange\u001b[0m\u001b[0;34m(\u001b[0m\u001b[0mmin_int\u001b[0m\u001b[0;34m,\u001b[0m \u001b[0mmax_int\u001b[0m\u001b[0;34m+\u001b[0m\u001b[0;36m1\u001b[0m\u001b[0;34m)\u001b[0m\u001b[0;34m]\u001b[0m\u001b[0;34m)\u001b[0m\u001b[0;34m)\u001b[0m\u001b[0;34m\u001b[0m\u001b[0;34m\u001b[0m\u001b[0m\n\u001b[0m\u001b[1;32m      6\u001b[0m     \u001b[0;32mexcept\u001b[0m \u001b[0mException\u001b[0m \u001b[0;32mas\u001b[0m \u001b[0merr\u001b[0m\u001b[0;34m:\u001b[0m\u001b[0;34m\u001b[0m\u001b[0;34m\u001b[0m\u001b[0m\n\u001b[1;32m      7\u001b[0m         \u001b[0mprint\u001b[0m\u001b[0;34m(\u001b[0m\u001b[0;34m'Oh no we ran into an error!'\u001b[0m\u001b[0;34m)\u001b[0m\u001b[0;34m\u001b[0m\u001b[0;34m\u001b[0m\u001b[0m\n",
      "\u001b[0;31mTypeError\u001b[0m: 'str' object cannot be interpreted as an integer"
     ]
    }
   ],
   "source": [
    "# example 2\n",
    "\n",
    "def sumIntegers(min_int:int, max_int:int) -> int:\n",
    "    try:\n",
    "        return (sum([x for x in range(min_int, max_int+1)]))\n",
    "    except Exception as err:\n",
    "        print('Oh no we ran into an error!')\n",
    "        print(f' our variables: {min_int}, {max_int}')\n",
    "        print(f' variable types: {type(min_int)}, {type(max_int)}')\n",
    "        \n",
    "        raise err\n",
    "        \n",
    "print(f'Successful example: {sumIntegers(0, 100)}')\n",
    "\n",
    "print('Unsuccessful example:')\n",
    "sumIntegers('4', 100)"
   ]
  },
  {
   "cell_type": "code",
   "execution_count": 10,
   "metadata": {},
   "outputs": [
    {
     "name": "stdout",
     "output_type": "stream",
     "text": [
      "Successful example: 5050\n",
      "Unsuccessful example:\n"
     ]
    },
    {
     "data": {
      "text/plain": [
       "'calc failed'"
      ]
     },
     "execution_count": 10,
     "metadata": {},
     "output_type": "execute_result"
    }
   ],
   "source": [
    "# example 3\n",
    "def sumIntegers(min_int:int, max_int:int) -> int:\n",
    "    try:\n",
    "        return (sum([x for x in range(min_int, max_int+1)]))\n",
    "    except Exception as err:\n",
    "        return 'calc failed'\n",
    "    \n",
    "print(f'Successful example: {sumIntegers(0, 100)}')\n",
    "\n",
    "print('Unsuccessful example:')\n",
    "sumIntegers('4', 100)"
   ]
  },
  {
   "cell_type": "code",
   "execution_count": 11,
   "metadata": {},
   "outputs": [
    {
     "name": "stdout",
     "output_type": "stream",
     "text": [
      "Successful example: 5050\n",
      "Unsuccessful example:\n"
     ]
    },
    {
     "ename": "TypeError",
     "evalue": "one of the arguments is not an integer!!",
     "output_type": "error",
     "traceback": [
      "\u001b[0;31m---------------------------------------------------------------------------\u001b[0m",
      "\u001b[0;31mTypeError\u001b[0m                                 Traceback (most recent call last)",
      "\u001b[0;32m<ipython-input-11-25e5bcd4999e>\u001b[0m in \u001b[0;36m<module>\u001b[0;34m\u001b[0m\n\u001b[1;32m     13\u001b[0m \u001b[0;34m\u001b[0m\u001b[0m\n\u001b[1;32m     14\u001b[0m \u001b[0mprint\u001b[0m\u001b[0;34m(\u001b[0m\u001b[0;34m'Unsuccessful example:'\u001b[0m\u001b[0;34m)\u001b[0m\u001b[0;34m\u001b[0m\u001b[0;34m\u001b[0m\u001b[0m\n\u001b[0;32m---> 15\u001b[0;31m \u001b[0msumIntegers\u001b[0m\u001b[0;34m(\u001b[0m\u001b[0;34m'4'\u001b[0m\u001b[0;34m,\u001b[0m \u001b[0;36m100\u001b[0m\u001b[0;34m)\u001b[0m\u001b[0;34m\u001b[0m\u001b[0;34m\u001b[0m\u001b[0m\n\u001b[0m",
      "\u001b[0;32m<ipython-input-11-25e5bcd4999e>\u001b[0m in \u001b[0;36msumIntegers\u001b[0;34m(min_int, max_int)\u001b[0m\n\u001b[1;32m      5\u001b[0m     \u001b[0;32mif\u001b[0m \u001b[0;32mnot\u001b[0m \u001b[0;34m(\u001b[0m\u001b[0misinstance\u001b[0m\u001b[0;34m(\u001b[0m\u001b[0mmin_int\u001b[0m\u001b[0;34m,\u001b[0m \u001b[0mint\u001b[0m\u001b[0;34m)\u001b[0m \u001b[0;32mand\u001b[0m \u001b[0misinstance\u001b[0m\u001b[0;34m(\u001b[0m\u001b[0mmax_int\u001b[0m\u001b[0;34m,\u001b[0m \u001b[0mint\u001b[0m\u001b[0;34m)\u001b[0m\u001b[0;34m)\u001b[0m\u001b[0;34m:\u001b[0m\u001b[0;34m\u001b[0m\u001b[0;34m\u001b[0m\u001b[0m\n\u001b[1;32m      6\u001b[0m \u001b[0;34m\u001b[0m\u001b[0m\n\u001b[0;32m----> 7\u001b[0;31m         \u001b[0;32mraise\u001b[0m \u001b[0mTypeError\u001b[0m\u001b[0;34m(\u001b[0m\u001b[0;34m\"one of the arguments is not an integer!!\"\u001b[0m\u001b[0;34m)\u001b[0m\u001b[0;34m\u001b[0m\u001b[0;34m\u001b[0m\u001b[0m\n\u001b[0m\u001b[1;32m      8\u001b[0m \u001b[0;34m\u001b[0m\u001b[0m\n\u001b[1;32m      9\u001b[0m     \u001b[0;32mreturn\u001b[0m \u001b[0;34m(\u001b[0m\u001b[0msum\u001b[0m\u001b[0;34m(\u001b[0m\u001b[0;34m[\u001b[0m\u001b[0mx\u001b[0m \u001b[0;32mfor\u001b[0m \u001b[0mx\u001b[0m \u001b[0;32min\u001b[0m \u001b[0mrange\u001b[0m\u001b[0;34m(\u001b[0m\u001b[0mmin_int\u001b[0m\u001b[0;34m,\u001b[0m \u001b[0mmax_int\u001b[0m\u001b[0;34m+\u001b[0m\u001b[0;36m1\u001b[0m\u001b[0;34m)\u001b[0m\u001b[0;34m]\u001b[0m\u001b[0;34m)\u001b[0m\u001b[0;34m)\u001b[0m\u001b[0;34m\u001b[0m\u001b[0;34m\u001b[0m\u001b[0m\n",
      "\u001b[0;31mTypeError\u001b[0m: one of the arguments is not an integer!!"
     ]
    }
   ],
   "source": [
    "# example 4\n",
    "\n",
    "def sumIntegers(min_int:int, max_int:int) -> int:\n",
    "    \n",
    "    if not (isinstance(min_int, int) and isinstance(max_int, int)):\n",
    "    \n",
    "        raise TypeError(\"one of the arguments is not an integer!!\")\n",
    "        \n",
    "    return (sum([x for x in range(min_int, max_int+1)]))\n",
    "\n",
    "    \n",
    "print(f'Successful example: {sumIntegers(0, 100)}')\n",
    "\n",
    "print('Unsuccessful example:')\n",
    "sumIntegers('4', 100)"
   ]
  },
  {
   "cell_type": "markdown",
   "metadata": {
    "id": "46pXkEZFGuvq"
   },
   "source": [
    "Challenge 4 (Difficult!): Try to define a class of \"mathBot\" which has the following features:\n",
    "- Can be created with arguments that specify date of creation, the name of the created instance, and other properties. These properties should be also editable.\n",
    "- Comes with a memory module that can store/retrieve/update/eliminate data in number into/from different datasets with different label names.\n",
    "- Comes with a stat module that can analyze the stored datasets statistically, such as generating the mean, median, variance, etc.\n",
    "- Is able to handle invalid input."
   ]
  },
  {
   "cell_type": "code",
   "execution_count": 18,
   "metadata": {
    "id": "DVwdpCCJGrI2"
   },
   "outputs": [
    {
     "name": "stdout",
     "output_type": "stream",
     "text": [
      "2021-06-24 21:39:05 | INFO     | mathBot | Hello, World\n",
      "Please give me a name if you don't want to call me mathBotMathBot\n",
      "Please tell me who created me if I am not created by GauravEG\n",
      "Starting TRoom. Press ctrl-c to escape.\n",
      "<<< __first\n",
      ">>> Unrecognised input, try again!\n",
      "Enter your message: hi\n",
      "<<< hi\n",
      ">>> Unrecognised input, try again!\n",
      "Enter your message: name\n",
      "<<< name\n",
      ">>> My name is MathBot\n",
      "Enter your message: parent\n",
      "<<< parent\n",
      ">>> I was created by EG on 2021-06-24.\n",
      "Enter your message: analyze\n",
      "<<< analyze\n",
      ">>> No data found!\n",
      "Enter your message: data store a b c d\n",
      "<<< data store a b c d\n",
      ">>>  Couldn't store the data :(  Try format: \"data 0.1 12 2.3 3\n",
      "Enter your message: data 0 1 2 3 4 \n",
      "<<< data 0 1 2 3 4 \n",
      ">>> Unrecognised input, try again!\n",
      "Enter your message: data store  0 2 3 4 5\n",
      "<<< data store  0 2 3 4 5\n",
      ">>>  Data stored!\n",
      "Enter your message: analyze\n",
      "<<< analyze\n",
      ">>> Analyzing the data. Mean: 2.8, median: 3.0, variance: 2.96\n",
      "Interrupted TRoom.\n"
     ]
    }
   ],
   "source": [
    "# %pip install chaipy nest_asyncio\n",
    "\n",
    "\n",
    "\n",
    "from chai_py import ChaiBot, Update, TRoom\n",
    "import datetime, asyncio\n",
    "import nest_asyncio\n",
    "import numpy as np\n",
    "nest_asyncio.apply()\n",
    "\n",
    "# Important Note: Don't worry about all the asyncio thing as they are just tweaks to allow such bot to be run on Colab. You won't need them if you run your bot locally.\n",
    "\n",
    "\n",
    "# This bot is just for the purpose of demonstration and is not fully done yet.\n",
    "class mathBot(ChaiBot):\n",
    "    def setup(self) -> None:\n",
    "        self.logger.info(\"Hello, World\")\n",
    "        name = input(\"Please give me a name if you don't want to call me mathBot\") or \"mathBot\"\n",
    "\n",
    "        parentName = input(\"Please tell me who created me if I am not created by Gaurav\") or \"Gaurav\"\n",
    "        self.botName = name\n",
    "        self.dateOfCreation = datetime.datetime.now()\n",
    "        self.parentName = parentName\n",
    "        self.dataStorageDict = {}\n",
    "        self.dataStorageList = []\n",
    "    def storageData():\n",
    "        return\n",
    "    async def on_message(self, update: Update) -> str:\n",
    "        message_text = update.latest_message.text\n",
    "        \n",
    "        if  message_text == \"name\":\n",
    "            return f\"My name is {self.botName}\"\n",
    "        elif message_text == \"parent\":\n",
    "            return f\"I was created by {self.parentName} on {self.dateOfCreation.strftime('%Y-%m-%d')}.\"\n",
    "            return f\"Echo: {update.latest_message.text}\"\n",
    "        \n",
    "        elif 'data store' in message_text:\n",
    "            try:\n",
    "                string_of_numbers = message_text.replace('data store', '')\n",
    "                self.dataStorageList = [float(val) for val in string_of_numbers.split()]\n",
    "                return(f' Data stored!')\n",
    "            except:\n",
    "                return(f\"\"\" Couldn\\'t store the data :(  Try format: \"data store 0.1 12 2.3 3\"\"\")\n",
    "        elif message_text == 'analyze':\n",
    "            data = self.dataStorageList\n",
    "            if len(data) == 0:\n",
    "                return(f'No data found!')\n",
    "            else:\n",
    "                return(f'Analyzing the data. Mean: {np.mean(data)}, median: {np.median(data)}, variance: {np.var(data)}')\n",
    "        \n",
    "        else:\n",
    "            return \"Unrecognised input, try again!\"\n",
    "\n",
    "t_room = TRoom([mathBot()])\n",
    "t_room.chat()"
   ]
  },
  {
   "cell_type": "code",
   "execution_count": null,
   "metadata": {},
   "outputs": [],
   "source": []
  }
 ],
 "metadata": {
  "colab": {
   "authorship_tag": "ABX9TyNU6hl/Y7XqN0g7KNu38DRq",
   "collapsed_sections": [],
   "include_colab_link": true,
   "name": "Section_2_Phase_1_Tasks_Solutions.ipynb",
   "provenance": []
  },
  "kernelspec": {
   "display_name": "Python 3",
   "language": "python",
   "name": "python3"
  },
  "language_info": {
   "codemirror_mode": {
    "name": "ipython",
    "version": 3
   },
   "file_extension": ".py",
   "mimetype": "text/x-python",
   "name": "python",
   "nbconvert_exporter": "python",
   "pygments_lexer": "ipython3",
   "version": "3.8.5"
  }
 },
 "nbformat": 4,
 "nbformat_minor": 1
}
